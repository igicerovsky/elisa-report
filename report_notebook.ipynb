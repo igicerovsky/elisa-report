{
  "cells": [
    {
      "attachments": {},
      "cell_type": "markdown",
      "metadata": {
        "id": "VzMkIHAq87Dq"
      },
      "source": [
        "# Generate report  - POC"
      ]
    },
    {
      "attachments": {},
      "cell_type": "markdown",
      "metadata": {
        "id": "zV2iKp5f9-Ui"
      },
      "source": [
        "## Read data"
      ]
    },
    {
      "cell_type": "code",
      "execution_count": 2,
      "metadata": {
        "id": "UPJ6L37j_pNp"
      },
      "outputs": [],
      "source": [
        "from readdata import read_concat_data\n",
        "\n",
        "xls_data = './data/sample_data.xlsx'\n",
        "data = read_concat_data(xls_data)"
      ]
    },
    {
      "cell_type": "code",
      "execution_count": 3,
      "metadata": {},
      "outputs": [
        {
          "data": {
            "text/html": [
              "<div>\n",
              "<style scoped>\n",
              "    .dataframe tbody tr th:only-of-type {\n",
              "        vertical-align: middle;\n",
              "    }\n",
              "\n",
              "    .dataframe tbody tr th {\n",
              "        vertical-align: top;\n",
              "    }\n",
              "\n",
              "    .dataframe thead th {\n",
              "        text-align: right;\n",
              "    }\n",
              "</style>\n",
              "<table border=\"1\" class=\"dataframe\">\n",
              "  <thead>\n",
              "    <tr style=\"text-align: right;\">\n",
              "      <th></th>\n",
              "      <th></th>\n",
              "      <th>OD_delta</th>\n",
              "      <th>OD_450</th>\n",
              "      <th>OD_630</th>\n",
              "    </tr>\n",
              "  </thead>\n",
              "  <tbody>\n",
              "    <tr>\n",
              "      <th rowspan=\"5\" valign=\"top\">A</th>\n",
              "      <th>0</th>\n",
              "      <td>1.554</td>\n",
              "      <td>1.5961</td>\n",
              "      <td>0.0421</td>\n",
              "    </tr>\n",
              "    <tr>\n",
              "      <th>1</th>\n",
              "      <td>0.921</td>\n",
              "      <td>0.9607</td>\n",
              "      <td>0.0397</td>\n",
              "    </tr>\n",
              "    <tr>\n",
              "      <th>2</th>\n",
              "      <td>0.5703</td>\n",
              "      <td>0.6079</td>\n",
              "      <td>0.0376</td>\n",
              "    </tr>\n",
              "    <tr>\n",
              "      <th>3</th>\n",
              "      <td>0.3327</td>\n",
              "      <td>0.3696</td>\n",
              "      <td>0.0369</td>\n",
              "    </tr>\n",
              "    <tr>\n",
              "      <th>4</th>\n",
              "      <td>1.4609</td>\n",
              "      <td>1.4994</td>\n",
              "      <td>0.0385</td>\n",
              "    </tr>\n",
              "    <tr>\n",
              "      <th>...</th>\n",
              "      <th>...</th>\n",
              "      <td>...</td>\n",
              "      <td>...</td>\n",
              "      <td>...</td>\n",
              "    </tr>\n",
              "    <tr>\n",
              "      <th rowspan=\"5\" valign=\"top\">H</th>\n",
              "      <th>7</th>\n",
              "      <td>0.4213</td>\n",
              "      <td>0.4591</td>\n",
              "      <td>0.0378</td>\n",
              "    </tr>\n",
              "    <tr>\n",
              "      <th>8</th>\n",
              "      <td>0.6562</td>\n",
              "      <td>0.6945</td>\n",
              "      <td>0.0383</td>\n",
              "    </tr>\n",
              "    <tr>\n",
              "      <th>9</th>\n",
              "      <td>0.3631</td>\n",
              "      <td>0.4009</td>\n",
              "      <td>0.0378</td>\n",
              "    </tr>\n",
              "    <tr>\n",
              "      <th>10</th>\n",
              "      <td>0.2077</td>\n",
              "      <td>0.2456</td>\n",
              "      <td>0.0379</td>\n",
              "    </tr>\n",
              "    <tr>\n",
              "      <th>11</th>\n",
              "      <td>0.1284</td>\n",
              "      <td>0.1651</td>\n",
              "      <td>0.0367</td>\n",
              "    </tr>\n",
              "  </tbody>\n",
              "</table>\n",
              "<p>96 rows × 3 columns</p>\n",
              "</div>"
            ],
            "text/plain": [
              "     OD_delta  OD_450  OD_630\n",
              "A 0     1.554  1.5961  0.0421\n",
              "  1     0.921  0.9607  0.0397\n",
              "  2    0.5703  0.6079  0.0376\n",
              "  3    0.3327  0.3696  0.0369\n",
              "  4    1.4609  1.4994  0.0385\n",
              "...       ...     ...     ...\n",
              "H 7    0.4213  0.4591  0.0378\n",
              "  8    0.6562  0.6945  0.0383\n",
              "  9    0.3631  0.4009  0.0378\n",
              "  10   0.2077  0.2456  0.0379\n",
              "  11   0.1284  0.1651  0.0367\n",
              "\n",
              "[96 rows x 3 columns]"
            ]
          },
          "execution_count": 3,
          "metadata": {},
          "output_type": "execute_result"
        }
      ],
      "source": [
        "data"
      ]
    },
    {
      "attachments": {},
      "cell_type": "markdown",
      "metadata": {
        "id": "BNLvIjir8ygz"
      },
      "source": [
        "## Layouts"
      ]
    },
    {
      "cell_type": "code",
      "execution_count": 6,
      "metadata": {
        "colab": {
          "base_uri": "https://localhost:8080/",
          "height": 300
        },
        "id": "xKUb6ELEiyhD",
        "outputId": "59d43667-88d3-4d57-f97e-e89719a90fb6"
      },
      "outputs": [
        {
          "data": {
            "text/html": [
              "<div>\n",
              "<style scoped>\n",
              "    .dataframe tbody tr th:only-of-type {\n",
              "        vertical-align: middle;\n",
              "    }\n",
              "\n",
              "    .dataframe tbody tr th {\n",
              "        vertical-align: top;\n",
              "    }\n",
              "\n",
              "    .dataframe thead th {\n",
              "        text-align: right;\n",
              "    }\n",
              "</style>\n",
              "<table border=\"1\" class=\"dataframe\">\n",
              "  <thead>\n",
              "    <tr style=\"text-align: right;\">\n",
              "      <th></th>\n",
              "      <th>1</th>\n",
              "      <th>2</th>\n",
              "      <th>3</th>\n",
              "      <th>4</th>\n",
              "      <th>5</th>\n",
              "      <th>6</th>\n",
              "      <th>7</th>\n",
              "      <th>8</th>\n",
              "      <th>9</th>\n",
              "      <th>10</th>\n",
              "      <th>11</th>\n",
              "      <th>12</th>\n",
              "    </tr>\n",
              "  </thead>\n",
              "  <tbody>\n",
              "    <tr>\n",
              "      <th>A</th>\n",
              "      <td>k_1</td>\n",
              "      <td>k_2</td>\n",
              "      <td>k_3</td>\n",
              "      <td>k_4</td>\n",
              "      <td>r1_1</td>\n",
              "      <td>r2_1</td>\n",
              "      <td>r3_1</td>\n",
              "      <td>r4_1</td>\n",
              "      <td>r5_1</td>\n",
              "      <td>r6_1</td>\n",
              "      <td>r7_1</td>\n",
              "      <td>b</td>\n",
              "    </tr>\n",
              "    <tr>\n",
              "      <th>B</th>\n",
              "      <td>s1_1</td>\n",
              "      <td>s1_2</td>\n",
              "      <td>s1_3</td>\n",
              "      <td>s1_4</td>\n",
              "      <td>s8_1</td>\n",
              "      <td>s8_2</td>\n",
              "      <td>s8_3</td>\n",
              "      <td>s8_4</td>\n",
              "      <td>s15_1</td>\n",
              "      <td>s15_2</td>\n",
              "      <td>s15_3</td>\n",
              "      <td>s15_4</td>\n",
              "    </tr>\n",
              "    <tr>\n",
              "      <th>C</th>\n",
              "      <td>s2_1</td>\n",
              "      <td>s2_2</td>\n",
              "      <td>s2_3</td>\n",
              "      <td>s2_4</td>\n",
              "      <td>s9_1</td>\n",
              "      <td>s9_2</td>\n",
              "      <td>s9_3</td>\n",
              "      <td>s9_4</td>\n",
              "      <td>s16_1</td>\n",
              "      <td>s16_2</td>\n",
              "      <td>s16_3</td>\n",
              "      <td>s16_4</td>\n",
              "    </tr>\n",
              "    <tr>\n",
              "      <th>D</th>\n",
              "      <td>s3_1</td>\n",
              "      <td>s3_2</td>\n",
              "      <td>s3_3</td>\n",
              "      <td>s3_4</td>\n",
              "      <td>s10_1</td>\n",
              "      <td>s10_2</td>\n",
              "      <td>s10_3</td>\n",
              "      <td>s10_4</td>\n",
              "      <td>s17_1</td>\n",
              "      <td>s17_2</td>\n",
              "      <td>s17_3</td>\n",
              "      <td>s17_4</td>\n",
              "    </tr>\n",
              "    <tr>\n",
              "      <th>E</th>\n",
              "      <td>s4_1</td>\n",
              "      <td>s4_2</td>\n",
              "      <td>s4_3</td>\n",
              "      <td>s4_4</td>\n",
              "      <td>s11_1</td>\n",
              "      <td>s11_2</td>\n",
              "      <td>s11_3</td>\n",
              "      <td>s11_4</td>\n",
              "      <td>s18_1</td>\n",
              "      <td>s18_2</td>\n",
              "      <td>s18_3</td>\n",
              "      <td>s18_4</td>\n",
              "    </tr>\n",
              "    <tr>\n",
              "      <th>F</th>\n",
              "      <td>s5_1</td>\n",
              "      <td>s5_2</td>\n",
              "      <td>s5_3</td>\n",
              "      <td>s5_4</td>\n",
              "      <td>s12_1</td>\n",
              "      <td>s12_2</td>\n",
              "      <td>s12_3</td>\n",
              "      <td>s12_4</td>\n",
              "      <td>s19_1</td>\n",
              "      <td>s19_2</td>\n",
              "      <td>s19_3</td>\n",
              "      <td>s19_4</td>\n",
              "    </tr>\n",
              "    <tr>\n",
              "      <th>G</th>\n",
              "      <td>s6_1</td>\n",
              "      <td>s6_2</td>\n",
              "      <td>s6_3</td>\n",
              "      <td>s6_4</td>\n",
              "      <td>s13_1</td>\n",
              "      <td>s13_2</td>\n",
              "      <td>s13_3</td>\n",
              "      <td>s13_4</td>\n",
              "      <td>s20_1</td>\n",
              "      <td>s20_2</td>\n",
              "      <td>s20_3</td>\n",
              "      <td>s20_4</td>\n",
              "    </tr>\n",
              "    <tr>\n",
              "      <th>H</th>\n",
              "      <td>s7_1</td>\n",
              "      <td>s7_2</td>\n",
              "      <td>s7_3</td>\n",
              "      <td>s7_4</td>\n",
              "      <td>s14_1</td>\n",
              "      <td>s14_2</td>\n",
              "      <td>s14_3</td>\n",
              "      <td>s14_4</td>\n",
              "      <td>s21_1</td>\n",
              "      <td>s21_2</td>\n",
              "      <td>s21_3</td>\n",
              "      <td>s21_4</td>\n",
              "    </tr>\n",
              "  </tbody>\n",
              "</table>\n",
              "</div>"
            ],
            "text/plain": [
              "     1     2     3     4      5      6      7      8      9      10     11   \n",
              "A   k_1   k_2   k_3   k_4   r1_1   r2_1   r3_1   r4_1   r5_1   r6_1   r7_1  \\\n",
              "B  s1_1  s1_2  s1_3  s1_4   s8_1   s8_2   s8_3   s8_4  s15_1  s15_2  s15_3   \n",
              "C  s2_1  s2_2  s2_3  s2_4   s9_1   s9_2   s9_3   s9_4  s16_1  s16_2  s16_3   \n",
              "D  s3_1  s3_2  s3_3  s3_4  s10_1  s10_2  s10_3  s10_4  s17_1  s17_2  s17_3   \n",
              "E  s4_1  s4_2  s4_3  s4_4  s11_1  s11_2  s11_3  s11_4  s18_1  s18_2  s18_3   \n",
              "F  s5_1  s5_2  s5_3  s5_4  s12_1  s12_2  s12_3  s12_4  s19_1  s19_2  s19_3   \n",
              "G  s6_1  s6_2  s6_3  s6_4  s13_1  s13_2  s13_3  s13_4  s20_1  s20_2  s20_3   \n",
              "H  s7_1  s7_2  s7_3  s7_4  s14_1  s14_2  s14_3  s14_4  s21_1  s21_2  s21_3   \n",
              "\n",
              "      12  \n",
              "A      b  \n",
              "B  s15_4  \n",
              "C  s16_4  \n",
              "D  s17_4  \n",
              "E  s18_4  \n",
              "F  s19_4  \n",
              "G  s20_4  \n",
              "H  s21_4  "
            ]
          },
          "execution_count": 6,
          "metadata": {},
          "output_type": "execute_result"
        }
      ],
      "source": [
        "import data.layouts as layouts\n",
        "from readdata import to_plate_layout\n",
        "\n",
        "to_plate_layout(layouts.l_plate_layout)"
      ]
    },
    {
      "attachments": {},
      "cell_type": "markdown",
      "metadata": {},
      "source": [
        "Convert plate layout list configuration to CSV (tabular data) for later use."
      ]
    },
    {
      "cell_type": "code",
      "execution_count": 8,
      "metadata": {
        "id": "dpkQxIn7bGA0"
      },
      "outputs": [],
      "source": [
        "from readdata import save_plate_layout_csv\n",
        "\n",
        "def save_plate_layout_csv(layout_list, out_file):\n",
        "  l = to_plate_layout(layout_list)\n",
        "  l.to_csv(out_file, index=False)\n",
        "\n",
        "SAVE_LAYOUTS_CSV = False\n",
        "if SAVE_LAYOUTS_CSV:\n",
        "  save_plate_layout_csv(layouts.l_plate_layout, './data/plate_layout.csv')\n",
        "  save_plate_layout_csv(layouts.l_plate_layout_ident, './data/plate_layout_ident.csv')\n",
        "  save_plate_layout_csv(layouts.l_plate_layout_num, './data/plate_layout_num.csv')\n",
        "  save_plate_layout_csv(layouts.l_plate_layout_dil, './data/plate_layout_dil.csv')"
      ]
    },
    {
      "attachments": {},
      "cell_type": "markdown",
      "metadata": {},
      "source": [
        "Check reading plate layout..."
      ]
    },
    {
      "cell_type": "code",
      "execution_count": 11,
      "metadata": {
        "colab": {
          "base_uri": "https://localhost:8080/",
          "height": 300
        },
        "id": "EhcUq4gagUvF",
        "outputId": "419c96ca-d9f1-4c13-f3f8-ad9e23662719"
      },
      "outputs": [
        {
          "data": {
            "text/html": [
              "<div>\n",
              "<style scoped>\n",
              "    .dataframe tbody tr th:only-of-type {\n",
              "        vertical-align: middle;\n",
              "    }\n",
              "\n",
              "    .dataframe tbody tr th {\n",
              "        vertical-align: top;\n",
              "    }\n",
              "\n",
              "    .dataframe thead th {\n",
              "        text-align: right;\n",
              "    }\n",
              "</style>\n",
              "<table border=\"1\" class=\"dataframe\">\n",
              "  <thead>\n",
              "    <tr style=\"text-align: right;\">\n",
              "      <th></th>\n",
              "      <th>1</th>\n",
              "      <th>2</th>\n",
              "      <th>3</th>\n",
              "      <th>4</th>\n",
              "      <th>5</th>\n",
              "      <th>6</th>\n",
              "      <th>7</th>\n",
              "      <th>8</th>\n",
              "      <th>9</th>\n",
              "      <th>10</th>\n",
              "      <th>11</th>\n",
              "      <th>12</th>\n",
              "    </tr>\n",
              "  </thead>\n",
              "  <tbody>\n",
              "    <tr>\n",
              "      <th>A</th>\n",
              "      <td>k_1</td>\n",
              "      <td>k_2</td>\n",
              "      <td>k_3</td>\n",
              "      <td>k_4</td>\n",
              "      <td>r1_1</td>\n",
              "      <td>r2_1</td>\n",
              "      <td>r3_1</td>\n",
              "      <td>r4_1</td>\n",
              "      <td>r5_1</td>\n",
              "      <td>r6_1</td>\n",
              "      <td>r7_1</td>\n",
              "      <td>b</td>\n",
              "    </tr>\n",
              "    <tr>\n",
              "      <th>B</th>\n",
              "      <td>s1_1</td>\n",
              "      <td>s1_2</td>\n",
              "      <td>s1_3</td>\n",
              "      <td>s1_4</td>\n",
              "      <td>s8_1</td>\n",
              "      <td>s8_2</td>\n",
              "      <td>s8_3</td>\n",
              "      <td>s8_4</td>\n",
              "      <td>s15_1</td>\n",
              "      <td>s15_2</td>\n",
              "      <td>s15_3</td>\n",
              "      <td>s15_4</td>\n",
              "    </tr>\n",
              "    <tr>\n",
              "      <th>C</th>\n",
              "      <td>s2_1</td>\n",
              "      <td>s2_2</td>\n",
              "      <td>s2_3</td>\n",
              "      <td>s2_4</td>\n",
              "      <td>s9_1</td>\n",
              "      <td>s9_2</td>\n",
              "      <td>s9_3</td>\n",
              "      <td>s9_4</td>\n",
              "      <td>s16_1</td>\n",
              "      <td>s16_2</td>\n",
              "      <td>s16_3</td>\n",
              "      <td>s16_4</td>\n",
              "    </tr>\n",
              "    <tr>\n",
              "      <th>D</th>\n",
              "      <td>s3_1</td>\n",
              "      <td>s3_2</td>\n",
              "      <td>s3_3</td>\n",
              "      <td>s3_4</td>\n",
              "      <td>s10_1</td>\n",
              "      <td>s10_2</td>\n",
              "      <td>s10_3</td>\n",
              "      <td>s10_4</td>\n",
              "      <td>s17_1</td>\n",
              "      <td>s17_2</td>\n",
              "      <td>s17_3</td>\n",
              "      <td>s17_4</td>\n",
              "    </tr>\n",
              "    <tr>\n",
              "      <th>E</th>\n",
              "      <td>s4_1</td>\n",
              "      <td>s4_2</td>\n",
              "      <td>s4_3</td>\n",
              "      <td>s4_4</td>\n",
              "      <td>s11_1</td>\n",
              "      <td>s11_2</td>\n",
              "      <td>s11_3</td>\n",
              "      <td>s11_4</td>\n",
              "      <td>s18_1</td>\n",
              "      <td>s18_2</td>\n",
              "      <td>s18_3</td>\n",
              "      <td>s18_4</td>\n",
              "    </tr>\n",
              "    <tr>\n",
              "      <th>F</th>\n",
              "      <td>s5_1</td>\n",
              "      <td>s5_2</td>\n",
              "      <td>s5_3</td>\n",
              "      <td>s5_4</td>\n",
              "      <td>s12_1</td>\n",
              "      <td>s12_2</td>\n",
              "      <td>s12_3</td>\n",
              "      <td>s12_4</td>\n",
              "      <td>s19_1</td>\n",
              "      <td>s19_2</td>\n",
              "      <td>s19_3</td>\n",
              "      <td>s19_4</td>\n",
              "    </tr>\n",
              "    <tr>\n",
              "      <th>G</th>\n",
              "      <td>s6_1</td>\n",
              "      <td>s6_2</td>\n",
              "      <td>s6_3</td>\n",
              "      <td>s6_4</td>\n",
              "      <td>s13_1</td>\n",
              "      <td>s13_2</td>\n",
              "      <td>s13_3</td>\n",
              "      <td>s13_4</td>\n",
              "      <td>s20_1</td>\n",
              "      <td>s20_2</td>\n",
              "      <td>s20_3</td>\n",
              "      <td>s20_4</td>\n",
              "    </tr>\n",
              "    <tr>\n",
              "      <th>H</th>\n",
              "      <td>s7_1</td>\n",
              "      <td>s7_2</td>\n",
              "      <td>s7_3</td>\n",
              "      <td>s7_4</td>\n",
              "      <td>s14_1</td>\n",
              "      <td>s14_2</td>\n",
              "      <td>s14_3</td>\n",
              "      <td>s14_4</td>\n",
              "      <td>s21_1</td>\n",
              "      <td>s21_2</td>\n",
              "      <td>s21_3</td>\n",
              "      <td>s21_4</td>\n",
              "    </tr>\n",
              "  </tbody>\n",
              "</table>\n",
              "</div>"
            ],
            "text/plain": [
              "     1     2     3     4      5      6      7      8      9      10     11   \n",
              "A   k_1   k_2   k_3   k_4   r1_1   r2_1   r3_1   r4_1   r5_1   r6_1   r7_1  \\\n",
              "B  s1_1  s1_2  s1_3  s1_4   s8_1   s8_2   s8_3   s8_4  s15_1  s15_2  s15_3   \n",
              "C  s2_1  s2_2  s2_3  s2_4   s9_1   s9_2   s9_3   s9_4  s16_1  s16_2  s16_3   \n",
              "D  s3_1  s3_2  s3_3  s3_4  s10_1  s10_2  s10_3  s10_4  s17_1  s17_2  s17_3   \n",
              "E  s4_1  s4_2  s4_3  s4_4  s11_1  s11_2  s11_3  s11_4  s18_1  s18_2  s18_3   \n",
              "F  s5_1  s5_2  s5_3  s5_4  s12_1  s12_2  s12_3  s12_4  s19_1  s19_2  s19_3   \n",
              "G  s6_1  s6_2  s6_3  s6_4  s13_1  s13_2  s13_3  s13_4  s20_1  s20_2  s20_3   \n",
              "H  s7_1  s7_2  s7_3  s7_4  s14_1  s14_2  s14_3  s14_4  s21_1  s21_2  s21_3   \n",
              "\n",
              "      12  \n",
              "A      b  \n",
              "B  s15_4  \n",
              "C  s16_4  \n",
              "D  s17_4  \n",
              "E  s18_4  \n",
              "F  s19_4  \n",
              "G  s20_4  \n",
              "H  s21_4  "
            ]
          },
          "execution_count": 11,
          "metadata": {},
          "output_type": "execute_result"
        }
      ],
      "source": [
        "from readdata import index_plate_layout\n",
        "import pandas as pd\n",
        "\n",
        "def read_plate_layout(file_path):\n",
        "  plate_layout = pd.read_csv(file_path)\n",
        "  index_plate_layout(plate_layout)\n",
        "\n",
        "  return plate_layout\n",
        "\n",
        "read_plate_layout('./data/plate_layout.csv')\n"
      ]
    },
    {
      "attachments": {},
      "cell_type": "markdown",
      "metadata": {},
      "source": [
        "## Fit"
      ]
    },
    {
      "cell_type": "code",
      "execution_count": 13,
      "metadata": {},
      "outputs": [
        {
          "name": "stdout",
          "output_type": "stream",
          "text": [
            "[2.41530440e-02 8.73602923e-01 1.12260107e+14 2.94568562e+03]\n",
            "[4.87957000e-02 2.11902816e-01 7.85213771e+16 1.79402023e+06]\n"
          ]
        },
        {
          "data": {
            "image/png": "[encoded data removed]",
            "text/plain": [
              "<Figure size 640x480 with 1 Axes>"
            ]
          },
          "metadata": {},
          "output_type": "display_data"
        }
      ],
      "source": [
        "import fitdata\n",
        "\n",
        "fit_data_path = './data/fit_1.csv'\n",
        "fitdata.fit_magic(fit_data_path)"
      ]
    },
    {
      "cell_type": "code",
      "execution_count": null,
      "metadata": {},
      "outputs": [],
      "source": []
    },
    {
      "attachments": {},
      "cell_type": "markdown",
      "metadata": {
        "id": "pbq4Hm3A-DPa"
      },
      "source": [
        "## Plate with wells"
      ]
    },
    {
      "cell_type": "code",
      "execution_count": null,
      "metadata": {
        "colab": {
          "base_uri": "https://localhost:8080/",
          "height": 516
        },
        "id": "YHCaH9mqvaPo",
        "outputId": "dbd268eb-cf2b-4789-a9cd-ba72817b9821"
      },
      "outputs": [
        {
          "name": "stdout",
          "output_type": "stream",
          "text": [
            "Int64Index([1, 2, 3, 4, 5, 6, 7, 8, 9], dtype='int64')\n"
          ]
        },
        {
          "data": {
            "image/png": "[encoded data removed]",
            "text/plain": [
              "<Figure size 800x600 with 1 Axes>"
            ]
          },
          "metadata": {},
          "output_type": "display_data"
        }
      ],
      "source": [
        "from matplotlib import pyplot as plt\n",
        "import numpy as np\n",
        "randn = np.random.randn\n",
        "from pandas import *\n",
        "\n",
        "idx = Index(np.arange(1, 10))\n",
        "print(idx)\n",
        "df = DataFrame(randn(9, 12), index=idx, columns=np.arange(1, 13))\n",
        "vals = np.around(df.values, 2)\n",
        "norm = plt.Normalize(vals.min()-1, vals.max()+1)\n",
        "colours = plt.cm.hot(norm(vals))\n",
        "\n",
        "fig = plt.figure(figsize=(8,6))\n",
        "ax = fig.add_subplot(111, frameon=True, xticks=[], yticks=[])\n",
        "\n",
        "the_table=plt.table(cellText=vals, rowLabels=df.index, colLabels=df.columns, \n",
        "                    colWidths = [0.06]*vals.shape[1], loc='center', \n",
        "                    cellColours=colours)\n",
        "plt.savefig('/content/foo.png')\n",
        "plt.show()"
      ]
    },
    {
      "attachments": {},
      "cell_type": "markdown",
      "metadata": {
        "id": "gZvoKky5-zeC"
      },
      "source": [
        "## Report"
      ]
    },
    {
      "attachments": {},
      "cell_type": "markdown",
      "metadata": {
        "id": "mITvKNH5-4fX"
      },
      "source": [
        "### Markdown report\n",
        "We build a report here..."
      ]
    },
    {
      "cell_type": "code",
      "execution_count": null,
      "metadata": {
        "id": "aRtUZG23mF2m"
      },
      "outputs": [],
      "source": [
        "md_content = ''''\n",
        "# Markdown report\n",
        "\n",
        "This a PoC for automatic report generation...  \n",
        "\n",
        "![\"alt text\"](foo.png \"Table\")\n",
        "'''"
      ]
    },
    {
      "attachments": {},
      "cell_type": "markdown",
      "metadata": {
        "id": "aS7JK3DM_CE5"
      },
      "source": [
        "### Export to PDF"
      ]
    },
    {
      "cell_type": "code",
      "execution_count": null,
      "metadata": {
        "id": "eHf5agnXnzdp"
      },
      "outputs": [],
      "source": [
        "from md2pdf.core import md2pdf\n",
        "pdf_file_path = \"/content/my.pdf\""
      ]
    },
    {
      "cell_type": "code",
      "execution_count": null,
      "metadata": {
        "id": "bNCx1zronwsj"
      },
      "outputs": [],
      "source": [
        "md2pdf(pdf_file_path,\n",
        "       md_content=md_content,\n",
        "       md_file_path=None,\n",
        "       css_file_path=None,\n",
        "       base_url=None)"
      ]
    },
    {
      "cell_type": "code",
      "execution_count": null,
      "metadata": {
        "id": "hOKAqGYP_Jlv"
      },
      "outputs": [],
      "source": [
        "md_file_path = \"/content/test.md\"\n",
        "md2pdf(pdf_file_path,\n",
        "       md_content=None,\n",
        "       md_file_path=md_file_path,\n",
        "       css_file_path=None,\n",
        "       base_url=None)"
      ]
    }
  ],
  "metadata": {
    "colab": {
      "provenance": []
    },
    "kernelspec": {
      "display_name": "Python 3",
      "name": "python3"
    },
    "language_info": {
      "codemirror_mode": {
        "name": "ipython",
        "version": 3
      },
      "file_extension": ".py",
      "mimetype": "text/x-python",
      "name": "python",
      "nbconvert_exporter": "python",
      "pygments_lexer": "ipython3",
      "version": "3.9.13"
    }
  },
  "nbformat": 4,
  "nbformat_minor": 0
}
