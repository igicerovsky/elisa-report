{
 "cells": [
  {
   "cell_type": "markdown",
   "metadata": {},
   "source": [
    "# Useful code snippets for debugging"
   ]
  },
  {
   "cell_type": "markdown",
   "metadata": {},
   "source": [
    "## Mask multiindex table"
   ]
  },
  {
   "cell_type": "code",
   "execution_count": null,
   "metadata": {},
   "outputs": [],
   "source": [
    "from scipy.stats import variation\n",
    "from itertools import combinations\n",
    "\n",
    "\n",
    "def mask_sample_cv(df_in, valid_pts, cv_threshold):\n",
    "    df = df_in[df_in['mask'].isna()]\n",
    "    display(df)\n",
    "    cv_min = cv_threshold  # variation(df['concentration'], ddof=1)\n",
    "    non_mask_idx = []\n",
    "    indices = df.index\n",
    "    # Reverse combinations order to break if `CV` < `cv_threshold`\n",
    "    for l in reversed(range(2, len(indices) + 1)):\n",
    "        for subset in combinations(indices, l):\n",
    "            comb = list(subset)\n",
    "            t = df.loc[comb]\n",
    "            display(t)\n",
    "            cv = variation(t['concentration'], ddof=1)\n",
    "            print(comb, cv)\n",
    "            if cv < cv_min:\n",
    "                non_mask_idx = comb\n",
    "                cv_min = cv\n",
    "                print(f'!!! min {cv}')\n",
    "        # break if CV drops below threshold\n",
    "        if cv_min < cv_threshold:\n",
    "            break\n",
    "\n",
    "    mask_idx = list(set(indices).symmetric_difference(non_mask_idx))\n",
    "    return mask_idx, non_mask_idx, cv_min"
   ]
  },
  {
   "cell_type": "code",
   "execution_count": null,
   "metadata": {},
   "outputs": [],
   "source": [
    "import pandas as pd\n",
    "import numpy as np\n",
    "\n",
    "idx = pd.MultiIndex.from_product([['A'],\n",
    "                                  [1, 2, 3, 4]],\n",
    "                                 names=['col', 'row'])\n",
    "col = ['concentration', 'mask']\n",
    "\n",
    "dfm = pd.DataFrame([(10, np.nan), (11, np.nan),\n",
    "                   (6, '<8'), (16, np.nan)], idx, col)\n",
    "display(dfm)\n",
    "\n",
    "# display(dfm['mask'].isna())\n",
    "m_idx, _, _ = mask_sample_cv(dfm, 2, 0.2)\n",
    "display(m_idx)\n",
    "dfm.loc[m_idx, ['mask']] = \"cv-masked\"\n",
    "display(dfm)"
   ]
  },
  {
   "cell_type": "markdown",
   "metadata": {},
   "source": [
    "## Report dir handling"
   ]
  },
  {
   "cell_type": "code",
   "execution_count": 5,
   "metadata": {},
   "outputs": [
    {
     "data": {
      "text/plain": [
       "['./../reports/all/230523_AAV9-ELISA_sey_GN004240-039',\n",
       " './../reports/all/230530_AAV9-ELISA_sey_GN004240-040',\n",
       " './../reports/all/230606_AAV9-ELISA_sey_GN004240-041',\n",
       " './../reports/all/230613_AAV9-ELISA_sey_GN004240-042',\n",
       " './../reports/all/230620_AAV9-ELISA_sey_GN004240-043',\n",
       " './../reports/all/230621_AAV9-ELISA_sey_GN004240-044',\n",
       " './../reports/all/230628_AAV9-ELISA_sey_GN004240-046',\n",
       " './../reports/all/230704_AAV9-ELISA_sey_GN004240-047']"
      ]
     },
     "execution_count": 5,
     "metadata": {},
     "output_type": "execute_result"
    }
   ],
   "source": [
    "import os\n",
    "\n",
    "def listdirs(rootdir):\n",
    "    dirs = []\n",
    "    for it in os.scandir(rootdir):\n",
    "        if it.is_dir():\n",
    "            dirs.append(it.path)\n",
    "            # print(it.path)\n",
    "    return dirs\n",
    "\n",
    "\n",
    "rootdir = './../reports/all/'\n",
    "dirs = listdirs(rootdir)\n",
    "dirs"
   ]
  },
  {
   "cell_type": "code",
   "execution_count": 6,
   "metadata": {},
   "outputs": [
    {
     "name": "stdout",
     "output_type": "stream",
     "text": [
      "{'date': '230523', 'protocol': 'AAV9-ELISA', 'analyst': 'sey', 'gn': 'GN004240-039'}\n",
      "230523_GN004240-039_-_\n",
      "{'date': '230530', 'protocol': 'AAV9-ELISA', 'analyst': 'sey', 'gn': 'GN004240-040'}\n",
      "230530_GN004240-040_-_\n",
      "{'date': '230606', 'protocol': 'AAV9-ELISA', 'analyst': 'sey', 'gn': 'GN004240-041'}\n",
      "230606_GN004240-041_-_\n",
      "{'date': '230613', 'protocol': 'AAV9-ELISA', 'analyst': 'sey', 'gn': 'GN004240-042'}\n",
      "230613_GN004240-042_-_\n",
      "{'date': '230620', 'protocol': 'AAV9-ELISA', 'analyst': 'sey', 'gn': 'GN004240-043'}\n",
      "230620_GN004240-043_-_\n",
      "{'date': '230621', 'protocol': 'AAV9-ELISA', 'analyst': 'sey', 'gn': 'GN004240-044'}\n",
      "230621_GN004240-044_-_\n",
      "{'date': '230628', 'protocol': 'AAV9-ELISA', 'analyst': 'sey', 'gn': 'GN004240-046'}\n",
      "230628_GN004240-046_-_\n",
      "{'date': '230704', 'protocol': 'AAV9-ELISA', 'analyst': 'sey', 'gn': 'GN004240-047'}\n",
      "230704_GN004240-047_-_\n"
     ]
    }
   ],
   "source": [
    "def parse_dir_name(path_name):\n",
    "    if os.path.isdir(path_name):\n",
    "        path_name = os.path.basename(path_name)\n",
    "    else:\n",
    "        raise Exception('Not directory!')\n",
    "    s = path_name.split('_')\n",
    "    dc = {'date': s[0], 'protocol': s[1], 'analyst': s[2], 'gn': s[3]}\n",
    "    return dc\n",
    "\n",
    "def make_base_name(date, gn):\n",
    "    return date + '_' + gn + '_-_'\n",
    "\n",
    "for work_dir in dirs:\n",
    "    p = parse_dir_name(work_dir)\n",
    "    print(p)\n",
    "    b = make_base_name(p['date'], p['gn'])\n",
    "    print(b)\n"
   ]
  },
  {
   "cell_type": "code",
   "execution_count": 53,
   "metadata": {},
   "outputs": [
    {
     "name": "stdout",
     "output_type": "stream",
     "text": [
      "./../reports/all/230523_AAV9-ELISA_sey_GN004240-039\n",
      "{'date': '230523', 'protocol': 'AAV9-ELISA', 'analyst': 'sey', 'gn': 'GN004240-039'}\n"
     ]
    },
    {
     "data": {
      "text/plain": [
       "{'worklist': './../reports/all/230523_AAV9-ELISA_sey_GN004240-039\\\\230523_GN004240-039_-_worklist-ELISA.xls',\n",
       " 'params': './../reports/all/230523_AAV9-ELISA_sey_GN004240-039\\\\230523_GN004240-039_-_AAV9-ELISA_Parameters.csv'}"
      ]
     },
     "execution_count": 53,
     "metadata": {},
     "output_type": "execute_result"
    }
   ],
   "source": [
    "from os import path\n",
    "\n",
    "def make_input_paths(input_dir):\n",
    "    print(input_dir)\n",
    "    p =  parse_dir_name(input_dir)\n",
    "    print(p)\n",
    "    base_name = make_base_name(p['date'], p['gn'])\n",
    "    worklist = path.join(input_dir, base_name + 'worklist-ELISA.xls')\n",
    "    if not path.isfile(worklist):\n",
    "        raise Exception(\"Worklist file path is invlaid: {}\".format(worklist))\n",
    "\n",
    "    params = path.join(input_dir, base_name + p['protocol'] +'_Parameters.csv')\n",
    "    if not path.isfile(params):\n",
    "        raise Exception(\"Parameters file path is invlaid: {}\".format(params))\n",
    "\n",
    "    return {'worklist': worklist, 'params': params}\n",
    "\n",
    "make_input_paths(dirs[0])"
   ]
  },
  {
   "cell_type": "markdown",
   "metadata": {},
   "source": [
    "## Parsing / checking worklist and params path\n"
   ]
  },
  {
   "cell_type": "code",
   "execution_count": 46,
   "metadata": {},
   "outputs": [
    {
     "name": "stdout",
     "output_type": "stream",
     "text": [
      "{'dir': './../reports/all/230530_AAV9-ELISA_sey_GN004240-040', 'file': '230530_GN004240-040_-_AAV9-ELISA_Parameters.csv', 'date': '230530', 'gn': 'GN004240-040', 'analyst': '-', 'protocol': 'AAV9-ELISA'}\n",
      "{'dir': './../reports/all/230530_AAV9-ELISA_sey_GN004240-040', 'file': '230530_GN004240-040_-_worklist-ELISA.xls', 'date': '230530', 'gn': 'GN004240-040', 'analyst': '-', 'protocol': 'worklist-ELISA.xls'}\n"
     ]
    }
   ],
   "source": [
    "import os\n",
    "\n",
    "def parse_file_path(path_name):\n",
    "    if not os.path.isfile(path_name):\n",
    "        raise Exception('Not directory!')\n",
    "    fl = os.path.split(path_name)\n",
    "    s = fl[1].split('_')\n",
    "    dc = { 'dir': fl[0], 'file': fl[1], 'date': s[0], 'gn': s[1], 'analyst': s[2], 'protocol': s[3]}\n",
    "    return dc\n",
    "\n",
    "# params_path = 'c:/work/report-gen/reports/all/230530_AAV9-ELISA_sey_GN004240-040/230530_GN004240-040_-_AAV9-ELISA_Parameters.csv'\n",
    "params_path = './../reports/all/230530_AAV9-ELISA_sey_GN004240-040/230530_GN004240-040_-_AAV9-ELISA_Parameters.csv'\n",
    "# worklist_path = 'c:/work/report-gen/reports/all/230530_AAV9-ELISA_sey_GN004240-040/230530_GN004240-040_-_worklist-ELISA.xls'\n",
    "worklist_path = './../reports/all/230530_AAV9-ELISA_sey_GN004240-040/230530_GN004240-040_-_worklist-ELISA.xls'\n",
    "\n",
    "htp = os.path.split(params_path)\n",
    "# print('params path split {} / {}'.format(htp[0], htp[1]))\n",
    "pp = parse_file_path(params_path)\n",
    "print(pp)\n",
    "\n",
    "htw = os.path.split(worklist_path)\n",
    "# print('worklist path split {} / {}'.format(htw[0], htw[1]))\n",
    "pw = parse_file_path(worklist_path)\n",
    "print(pw)\n",
    "\n"
   ]
  },
  {
   "cell_type": "code",
   "execution_count": null,
   "metadata": {},
   "outputs": [],
   "source": [
    "from datetime import datetime, date, time, timezone\n",
    "\n",
    "dt = datetime.strptime(\"21/11/06 16:30\", \"%d/%m/%y %H:%M\")\n",
    "dt = datetime.strptime('230530', \"%y%m%d\")\n",
    "print(dt.strftime('%d %b %Y'))"
   ]
  }
 ],
 "metadata": {
  "kernelspec": {
   "display_name": "Python 3",
   "language": "python",
   "name": "python3"
  },
  "language_info": {
   "codemirror_mode": {
    "name": "ipython",
    "version": 3
   },
   "file_extension": ".py",
   "mimetype": "text/x-python",
   "name": "python",
   "nbconvert_exporter": "python",
   "pygments_lexer": "ipython3",
   "version": "3.9.13"
  },
  "orig_nbformat": 4
 },
 "nbformat": 4,
 "nbformat_minor": 2
}
