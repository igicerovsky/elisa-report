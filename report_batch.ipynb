{
 "cells": [
  {
   "cell_type": "markdown",
   "metadata": {},
   "source": [
    "# Batch report generation"
   ]
  },
  {
   "cell_type": "code",
   "execution_count": 1,
   "metadata": {},
   "outputs": [],
   "source": [
    "import os\n",
    "\n",
    "def listdirs(rootdir):\n",
    "    dirs = []\n",
    "    for it in os.scandir(rootdir):\n",
    "        if it.is_dir():\n",
    "            dirs.append(it.path)\n",
    "    return dirs\n",
    "\n",
    "\n",
    "def parse_dir_name(path_name):\n",
    "    if os.path.isdir(path_name):\n",
    "        path_name = os.path.basename(path_name)\n",
    "    else:\n",
    "        raise Exception('Not directory!')\n",
    "    s = path_name.split('_')\n",
    "    dc = {'date': s[0], 'protocol': s[1], 'analyst': s[2], 'gn': s[3]}\n",
    "    return dc\n",
    "\n",
    "def make_base_name(date, gn):\n",
    "    return date + '_' + gn + '_-_'"
   ]
  },
  {
   "cell_type": "code",
   "execution_count": 2,
   "metadata": {},
   "outputs": [
    {
     "name": "stdout",
     "output_type": "stream",
     "text": [
      "Generating report for {work_dir}\n",
      "\n",
      "Processing plate 1 of 2\n",
      "Results file path is invlaid! ./reports/all/230523_AAV9-ELISA_sey_GN004240-039\\230523_GN004240-039_-_calc1.xlsx\n",
      "Generating report for {work_dir}\n",
      "\n",
      "Processing plate 1 of 2\n"
     ]
    },
    {
     "name": "stderr",
     "output_type": "stream",
     "text": [
      "100%|██████████| 21/21 [00:09<00:00,  2.22it/s]\n"
     ]
    },
    {
     "name": "stdout",
     "output_type": "stream",
     "text": [
      "Report for plate 1 saved as ./reports/all/230530_AAV9-ELISA_sey_GN004240-040\\results_plate_1\\230530_GN004240-040_-_report_plate_1.md\n",
      "Processing plate 2 of 2\n"
     ]
    },
    {
     "name": "stderr",
     "output_type": "stream",
     "text": [
      "100%|██████████| 21/21 [00:08<00:00,  2.43it/s]\n"
     ]
    },
    {
     "name": "stdout",
     "output_type": "stream",
     "text": [
      "Report for plate 2 saved as ./reports/all/230530_AAV9-ELISA_sey_GN004240-040\\results_plate_2\\230530_GN004240-040_-_report_plate_2.md\n",
      "CRC for './reports/all/230530_AAV9-ELISA_sey_GN004240-040\\results_plate_1\\230530_GN004240-040_-_report_plate_1.md' is 3562649522\n",
      "CRC for './reports/all/230530_AAV9-ELISA_sey_GN004240-040\\results_plate_2\\230530_GN004240-040_-_report_plate_2.md' is 1327972650\n",
      "Done.\n",
      "Generating report for {work_dir}\n",
      "\n",
      "Processing plate 1 of 2\n"
     ]
    },
    {
     "name": "stderr",
     "output_type": "stream",
     "text": [
      "100%|██████████| 21/21 [00:07<00:00,  2.90it/s]\n"
     ]
    },
    {
     "name": "stdout",
     "output_type": "stream",
     "text": [
      "Report for plate 1 saved as ./reports/all/230606_AAV9-ELISA_sey_GN004240-041\\results_plate_1\\230606_GN004240-041_-_report_plate_1.md\n",
      "Processing plate 2 of 2\n"
     ]
    },
    {
     "name": "stderr",
     "output_type": "stream",
     "text": [
      "100%|██████████| 21/21 [00:06<00:00,  3.10it/s]\n"
     ]
    },
    {
     "name": "stdout",
     "output_type": "stream",
     "text": [
      "Report for plate 2 saved as ./reports/all/230606_AAV9-ELISA_sey_GN004240-041\\results_plate_2\\230606_GN004240-041_-_report_plate_2.md\n",
      "CRC for './reports/all/230606_AAV9-ELISA_sey_GN004240-041\\results_plate_1\\230606_GN004240-041_-_report_plate_1.md' is 3852701649\n",
      "CRC for './reports/all/230606_AAV9-ELISA_sey_GN004240-041\\results_plate_2\\230606_GN004240-041_-_report_plate_2.md' is 251135035\n",
      "Done.\n",
      "Generating report for {work_dir}\n",
      "\n",
      "Worklist file path is invlaid: ./reports/all/230613_AAV9-ELISA_sey_GN004240-042\\230613_GN004240-042_-_worklist-ELISA.xls\n",
      "Generating report for {work_dir}\n",
      "\n",
      "Worklist file path is invlaid: ./reports/all/230620_AAV9-ELISA_sey_GN004240-043\\230620_GN004240-043_-_worklist-ELISA.xls\n",
      "Generating report for {work_dir}\n",
      "\n",
      "Processing plate 1 of 1\n"
     ]
    },
    {
     "name": "stderr",
     "output_type": "stream",
     "text": [
      "100%|██████████| 21/21 [00:08<00:00,  2.62it/s]\n"
     ]
    },
    {
     "name": "stdout",
     "output_type": "stream",
     "text": [
      "Report for plate 1 saved as ./reports/all/230621_AAV9-ELISA_sey_GN004240-044\\results_plate_1\\230621_GN004240-044_-_report_plate_1.md\n",
      "CRC for './reports/all/230621_AAV9-ELISA_sey_GN004240-044\\results_plate_1\\230621_GN004240-044_-_report_plate_1.md' is 1492784867\n",
      "Done.\n",
      "Generating report for {work_dir}\n",
      "\n",
      "Processing plate 1 of 2\n"
     ]
    },
    {
     "name": "stderr",
     "output_type": "stream",
     "text": [
      "100%|██████████| 21/21 [00:07<00:00,  2.97it/s]\n"
     ]
    },
    {
     "name": "stdout",
     "output_type": "stream",
     "text": [
      "Report for plate 1 saved as ./reports/all/230628_AAV9-ELISA_sey_GN004240-046\\results_plate_1\\230628_GN004240-046_-_report_plate_1.md\n",
      "Processing plate 2 of 2\n"
     ]
    },
    {
     "name": "stderr",
     "output_type": "stream",
     "text": [
      "100%|██████████| 21/21 [00:06<00:00,  3.07it/s]"
     ]
    },
    {
     "name": "stdout",
     "output_type": "stream",
     "text": [
      "Report for plate 2 saved as ./reports/all/230628_AAV9-ELISA_sey_GN004240-046\\results_plate_2\\230628_GN004240-046_-_report_plate_2.md\n",
      "CRC for './reports/all/230628_AAV9-ELISA_sey_GN004240-046\\results_plate_1\\230628_GN004240-046_-_report_plate_1.md' is 2110680800\n",
      "CRC for './reports/all/230628_AAV9-ELISA_sey_GN004240-046\\results_plate_2\\230628_GN004240-046_-_report_plate_2.md' is 3126588336\n",
      "Done.\n",
      "Generating report for {work_dir}\n",
      "\n",
      "Processing plate 1 of 1\n",
      "Results file path is invlaid! ./reports/all/230704_AAV9-ELISA_sey_GN004240-047\\230704_GN004240-047_-_calc1.xlsx\n"
     ]
    },
    {
     "name": "stderr",
     "output_type": "stream",
     "text": [
      "\n"
     ]
    },
    {
     "data": {
      "text/plain": [
       "<Figure size 640x480 with 0 Axes>"
      ]
     },
     "metadata": {},
     "output_type": "display_data"
    }
   ],
   "source": [
    "from report_gen import main_report\n",
    "\n",
    "rootdir = './reports/all/'\n",
    "dirs = listdirs(rootdir)\n",
    "dirs\n",
    "\n",
    "for work_dir in dirs:\n",
    "    print('Generating report for {work_dir}\\n')\n",
    "    try:\n",
    "        main_report(work_dir)\n",
    "    except Exception as e:\n",
    "        print(e)\n",
    "\n",
    "# ./reports/all/230523_AAV9-ELISA_sey_GN004240-039\\230523-GN004240-039_-_worklist-ELISA.xls"
   ]
  }
 ],
 "metadata": {
  "kernelspec": {
   "display_name": "Python 3",
   "language": "python",
   "name": "python3"
  },
  "language_info": {
   "codemirror_mode": {
    "name": "ipython",
    "version": 3
   },
   "file_extension": ".py",
   "mimetype": "text/x-python",
   "name": "python",
   "nbconvert_exporter": "python",
   "pygments_lexer": "ipython3",
   "version": "3.9.13"
  },
  "orig_nbformat": 4
 },
 "nbformat": 4,
 "nbformat_minor": 2
}
