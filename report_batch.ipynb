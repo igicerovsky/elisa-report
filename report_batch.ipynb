{
 "cells": [
  {
   "cell_type": "markdown",
   "metadata": {},
   "source": [
    "# Batch report generation"
   ]
  },
  {
   "cell_type": "code",
   "execution_count": null,
   "metadata": {},
   "outputs": [],
   "source": [
    "import os\n",
    "\n",
    "def listdirs(rootdir):\n",
    "    dirs = []\n",
    "    for it in os.scandir(rootdir):\n",
    "        if it.is_dir():\n",
    "            dirs.append(it.path)\n",
    "    return dirs\n",
    "\n",
    "\n",
    "def parse_dir_name(path_name):\n",
    "    if os.path.isdir(path_name):\n",
    "        path_name = os.path.basename(path_name)\n",
    "    else:\n",
    "        raise Exception('Not directory!')\n",
    "    s = path_name.split('_')\n",
    "    dc = {'date': s[0], 'protocol': s[1], 'analyst': s[2], 'gn': s[3]}\n",
    "    return dc\n",
    "\n",
    "def make_base_name(date, gn):\n",
    "    return date + '_' + gn + '_-_'"
   ]
  },
  {
   "cell_type": "code",
   "execution_count": null,
   "metadata": {},
   "outputs": [],
   "source": [
    "from report_gen import main_report\n",
    "\n",
    "rootdir = './reports/all/'\n",
    "dirs = listdirs(rootdir)\n",
    "dirs\n",
    "\n",
    "for work_dir in dirs:\n",
    "    p = parse_dir_name(work_dir)\n",
    "    base_name = make_base_name(p['date'], p['gn'])\n",
    "    print('Generating report for {work_dir}\\n')\n",
    "    try:\n",
    "        main_report(work_dir, base_name)\n",
    "    except Exception as e:\n",
    "        print(e)\n",
    "\n",
    "# ./reports/all/230523_AAV9-ELISA_sey_GN004240-039\\230523-GN004240-039_-_worklist-ELISA.xls"
   ]
  }
 ],
 "metadata": {
  "kernelspec": {
   "display_name": "Python 3",
   "language": "python",
   "name": "python3"
  },
  "language_info": {
   "codemirror_mode": {
    "name": "ipython",
    "version": 3
   },
   "file_extension": ".py",
   "mimetype": "text/x-python",
   "name": "python",
   "nbconvert_exporter": "python",
   "pygments_lexer": "ipython3",
   "version": "3.9.13"
  },
  "orig_nbformat": 4
 },
 "nbformat": 4,
 "nbformat_minor": 2
}
