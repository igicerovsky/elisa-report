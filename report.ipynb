{
  "cells": [
    {
      "attachments": {},
      "cell_type": "markdown",
      "metadata": {
        "id": "VzMkIHAq87Dq"
      },
      "source": [
        "# Intro"
      ]
    },
    {
      "attachments": {},
      "cell_type": "markdown",
      "metadata": {},
      "source": [
        "\n",
        "## Goal\n",
        "**WHAT**: Automatic report generation from Hamilton measurements.  \n",
        "**WHY**: Speed up the report generation, and avoid human errors (copying data, subjective evaluation, ....)\n",
        "\n",
        "## Tools\n",
        "Fast iteration in an agile way.  \n",
        "Generic approach - different plates setup, prameters, ... all with the same code, no changes needed.  \n",
        "\n",
        "**Python** programming language.  \n",
        "**jupyter** notebook is currently used, with some functions divided into small modules.  \n",
        "**Visual Studio Code** IDE (Integrated Development Environment).  \n",
        "**Markdown** (*.md) format for generated report (Simple, humanly redable).  \n",
        "\n",
        "## Input:\n",
        " - Worklist file path (*.xls) as used for Hamilton input.\n",
        "   - Sample name\n",
        "   - Dilution\n",
        "   - Viscosity\n",
        " - Analysys measurement results file path (*.xls) as output from Hamilton.\n",
        " - Parameters; constants in code (file path *.json)\n",
        "   - CV (Coefficient of variation) threshold\n",
        "   - Referennce value (1.7954e+10 cp/ml)\n",
        "   - Dilutions [1.0, 2.0, 4.0, 8.0, 16.0, 32.0, 64.0]\n",
        "   - Decimal digits for output\n",
        "\n",
        "## Output:\n",
        "  - Report (*.md, printable to pdf)\n",
        "    - Could be manually edited\n",
        "    - Image files\n",
        "    - Result sheets\n",
        "  - Estimated size <2kB (current)\n",
        "\n",
        "## Done\n",
        "  - Invalid sample:\n",
        "    - CV >THRESHOLD\n",
        "    - Only one point\n",
        "  - Parameters file (*.scv, *.json)\n",
        "  - Multiple plates (in worklist file)\n",
        "  - Modules\n",
        "  - Running modes\n",
        "    - Python script - automatic run (command line with parameters)\n",
        "\n",
        "## TODO:\n",
        "  - Finalize the report\n",
        "    - 2 decimal places\n",
        "  - Running modes\n",
        "    - GUI; use modules to crete an App (code remains the same, but used from GUI)\n",
        "  - Tests (unit, integration)\n",
        "  - checksum (*.sdax); put into report\n",
        "  - Extensive testing...\n",
        "  - Automatic print to *.pdf ?\n",
        "  - md2pdf\n",
        "\n",
        "## Conclusion\n",
        "End to end evaluation time reduction approximately 2h -> 20min per measurement. (thx Felix)\n"
      ]
    },
    {
      "attachments": {},
      "cell_type": "markdown",
      "metadata": {},
      "source": [
        "# Generate report  - POC\n",
        "\n",
        "[AV9 data folder](<../../Users/hwn6193/OneDrive - Takeda/General - Gene Therapy Analytics (AD+PA)/3_Teams/3.1_Protein_Quantification/_AAV9 Capsid ELISA>)"
      ]
    },
    {
      "attachments": {},
      "cell_type": "markdown",
      "metadata": {},
      "source": [
        "## Review bugs\n",
        "### TODO\n",
        "\n",
        "### Fixed\n",
        "- mask sample point(s) if `CV>CV_THRESHOLD` and `valid sample_poitns <= MIN_VALID_SAMPLE_POINTS` (Igor)\n",
        "- `CV[%]` one `{:.1f}` decimal digit (Felix)\n",
        "- `Result [cp/ml]` three `{:.3e}` (Felix)\n",
        "- `nan` -> `NA` (Felix)\n",
        "- control sample image line ending (Sebastian)\n",
        "- `CV[%]` column format to 2 decimal digits with trailing zeroes (Sebastian/Robert)\n",
        "- Fit parameter description https://teams.microsoft.com/l/message/19:4ba886dcae16442f802adcc65edc04bb@thread.v2/1688557386620?context=%7B%22contextType%22%3A%22chat%22%7D (Felix)"
      ]
    },
    {
      "attachments": {},
      "cell_type": "markdown",
      "metadata": {},
      "source": [
        "## Imports"
      ]
    },
    {
      "cell_type": "code",
      "execution_count": 1,
      "metadata": {},
      "outputs": [],
      "source": [
        "VERBOSE_NOTEBOOK = False\n",
        "WARNING_DISABLE = True\n",
        "DEBUG = False"
      ]
    },
    {
      "cell_type": "code",
      "execution_count": 2,
      "metadata": {
        "id": "DScHnqGC95-6"
      },
      "outputs": [],
      "source": [
        "from os import path\n",
        "import warnings\n",
        "from scipy.optimize import OptimizeWarning\n",
        "\n",
        "if WARNING_DISABLE:\n",
        "    warnings.simplefilter('ignore', RuntimeWarning)\n",
        "    warnings.simplefilter('ignore', OptimizeWarning)\n",
        "    warnings.filterwarnings('ignore', category=UserWarning, module='openpyxl')"
      ]
    },
    {
      "cell_type": "code",
      "execution_count": 3,
      "metadata": {},
      "outputs": [],
      "source": [
        "from mkinout import make_input_paths\n",
        "WORKING_DIR = './reports/230426_AAV9-ELISA_igi_GN004240-033'\n",
        "\n",
        "input_files = make_input_paths(WORKING_DIR)\n",
        "WORKLIST_FILE_PATH = input_files['worklist']\n",
        "PARAMS_FILE_PATH = input_files['params']\n",
        "\n",
        "DATA_DIR = './data'"
      ]
    },
    {
      "attachments": {},
      "cell_type": "markdown",
      "metadata": {
        "id": "BNLvIjir8ygz"
      },
      "source": [
        "## Layouts"
      ]
    },
    {
      "cell_type": "code",
      "execution_count": 4,
      "metadata": {
        "colab": {
          "base_uri": "https://localhost:8080/",
          "height": 300
        },
        "id": "EhcUq4gagUvF",
        "outputId": "419c96ca-d9f1-4c13-f3f8-ad9e23662719"
      },
      "outputs": [],
      "source": [
        "from readdata import read_layouts\n",
        "\n",
        "PLATE_LAYOUT_ID = 'plate_layout_ident.csv'\n",
        "PLATE_LAYOUT_NUM = 'plate_layout_num.csv'\n",
        "PLATE_LAYOUT_DIL_ID = 'plate_layout_dil_id.csv'\n",
        "\n",
        "\n",
        "g_lay = read_layouts(path.join(DATA_DIR, PLATE_LAYOUT_ID),\n",
        "                     path.join(DATA_DIR, PLATE_LAYOUT_NUM),\n",
        "                     path.join(DATA_DIR, PLATE_LAYOUT_DIL_ID))\n",
        "\n",
        "if VERBOSE_NOTEBOOK:\n",
        "    display(g_lay)"
      ]
    },
    {
      "attachments": {},
      "cell_type": "markdown",
      "metadata": {},
      "source": [
        "## Worklist"
      ]
    },
    {
      "cell_type": "code",
      "execution_count": 5,
      "metadata": {},
      "outputs": [],
      "source": [
        "from worklist import read_worklist, check_worklist\n",
        "from readdata import read_params\n",
        "\n",
        "g_wl_raw = read_worklist(WORKLIST_FILE_PATH)\n",
        "g_valid_plates = check_worklist(g_wl_raw)\n",
        "g_params = read_params(PARAMS_FILE_PATH)"
      ]
    },
    {
      "attachments": {},
      "cell_type": "markdown",
      "metadata": {},
      "source": [
        "## Dilution to Concentration\n",
        "\n",
        "Define dilution dataframe. The dataframe is indexed according plate layout, index of refference dataframe corresponds to refference of the `plate_layout_dil`."
      ]
    },
    {
      "cell_type": "code",
      "execution_count": 6,
      "metadata": {},
      "outputs": [],
      "source": [
        "# TODO: read reference value from parameters\n",
        "REF_VAL_MAX = 1.7954e+10\n",
        "DILUTIONS = [1.0, 2.0, 4.0, 8.0, 16.0, 32.0, 64.0]\n",
        "\n",
        "from sample import make_concentration\n",
        "g_reference_conc = make_concentration(REF_VAL_MAX, DILUTIONS)\n",
        "\n",
        "if VERBOSE_NOTEBOOK:\n",
        "    display(g_reference_conc)"
      ]
    },
    {
      "attachments": {},
      "cell_type": "markdown",
      "metadata": {},
      "source": [
        "## Report generation"
      ]
    },
    {
      "cell_type": "code",
      "execution_count": 7,
      "metadata": {},
      "outputs": [
        {
          "name": "stdout",
          "output_type": "stream",
          "text": [
            "Processing plate 1 of 2\n"
          ]
        },
        {
          "name": "stderr",
          "output_type": "stream",
          "text": [
            "100%|██████████| 21/21 [00:11<00:00,  1.86it/s]\n"
          ]
        },
        {
          "name": "stdout",
          "output_type": "stream",
          "text": [
            "Report for plate 1 saved as ./reports/230426_AAV9-ELISA_igi_GN004240-033\\results_plate_1\\230426_GN004240-033_-_report_plate_1.md\n",
            "Generating Word ./reports/230426_AAV9-ELISA_igi_GN004240-033\\results_plate_1\\230426_GN004240-033_-_report_plate_1.docx for ./reports/230426_AAV9-ELISA_igi_GN004240-033\\results_plate_1\\230426_GN004240-033_-_report_plate_1.md\n",
            "Processing plate 2 of 2\n"
          ]
        },
        {
          "name": "stderr",
          "output_type": "stream",
          "text": [
            "100%|██████████| 21/21 [00:10<00:00,  1.92it/s]\n"
          ]
        },
        {
          "name": "stdout",
          "output_type": "stream",
          "text": [
            "Report for plate 2 saved as ./reports/230426_AAV9-ELISA_igi_GN004240-033\\results_plate_2\\230426_GN004240-033_-_report_plate_2.md\n",
            "Generating Word ./reports/230426_AAV9-ELISA_igi_GN004240-033\\results_plate_2\\230426_GN004240-033_-_report_plate_2.docx for ./reports/230426_AAV9-ELISA_igi_GN004240-033\\results_plate_2\\230426_GN004240-033_-_report_plate_2.md\n"
          ]
        },
        {
          "data": {
            "text/plain": [
              "<Figure size 640x480 with 0 Axes>"
            ]
          },
          "metadata": {},
          "output_type": "display_data"
        }
      ],
      "source": [
        "from reportmain import report_plate, check_report_crc\n",
        "from mkinout import make_output_paths, basename_from_inputdir\n",
        "\n",
        "def gen_report(valid_plates, worklist, params, layout, reference_conc,\n",
        "               working_dir, base_name):\n",
        "    reports = []\n",
        "    for plate in valid_plates:\n",
        "        print('Processing plate {} of {}'.format(plate, len(valid_plates)))\n",
        "\n",
        "        output_files = make_output_paths(working_dir, base_name, plate)\n",
        "        analysis_file_path = output_files['analysis']\n",
        "        report_file_path = output_files['report']\n",
        "        report_dir = path.dirname(path.abspath(report_file_path))\n",
        "        md = report_plate(plate, worklist, params, layout,\n",
        "                    reference_conc, analysis_file_path, report_dir, report_file_path\n",
        "                    )\n",
        "        reports.append({'md': md, 'path': report_file_path})\n",
        "    return reports\n",
        "\n",
        "reports = gen_report(g_valid_plates, g_wl_raw, g_params, g_lay, g_reference_conc,\n",
        "    WORKING_DIR, basename_from_inputdir(WORKING_DIR))"
      ]
    },
    {
      "cell_type": "code",
      "execution_count": 13,
      "metadata": {},
      "outputs": [],
      "source": [
        "CHECK_REPORT_CRC = True\n",
        "REPORT_PLATES_CRC = [1094899247, 4030313479]\n",
        "if CHECK_REPORT_CRC:\n",
        "    for report, crc in zip(reports, REPORT_PLATES_CRC):\n",
        "        try:\n",
        "            # check_report_crc(report['md'], crc)\n",
        "        except Exception as e:\n",
        "            print('{} for {}'.format(e, report['path']))"
      ]
    },
    {
      "cell_type": "markdown",
      "metadata": {},
      "source": [
        "Use pandoc to convert markdown to Word."
      ]
    },
    {
      "cell_type": "code",
      "execution_count": 11,
      "metadata": {},
      "outputs": [
        {
          "name": "stdout",
          "output_type": "stream",
          "text": [
            "Generating Word c:\\work\\report-gen\\reports\\230426_AAV9-ELISA_igi_GN004240-033\\results_plate_1\\230426_GN004240-033_-_report_plate_1.docx for c:\\work\\report-gen\\reports\\230426_AAV9-ELISA_igi_GN004240-033\\results_plate_1\\230426_GN004240-033_-_report_plate_1.md\n",
            "Generating PDF c:\\work\\report-gen\\reports\\230426_AAV9-ELISA_igi_GN004240-033\\results_plate_1\\230426_GN004240-033_-_report_plate_1.pdf for c:\\work\\report-gen\\reports\\230426_AAV9-ELISA_igi_GN004240-033\\results_plate_1\\230426_GN004240-033_-_report_plate_1.md\n",
            "Generating Word c:\\work\\report-gen\\reports\\230426_AAV9-ELISA_igi_GN004240-033\\results_plate_2\\230426_GN004240-033_-_report_plate_2.docx for c:\\work\\report-gen\\reports\\230426_AAV9-ELISA_igi_GN004240-033\\results_plate_2\\230426_GN004240-033_-_report_plate_2.md\n"
          ]
        },
        {
          "name": "stderr",
          "output_type": "stream",
          "text": [
            "pdflatex: major issue: So far, you have not checked for MiKTeX updates.\n",
            "pdflatex: major issue: So far, you have not checked for MiKTeX updates.\n",
            "pandoc: c:\\work\\report-gen\\reports\\230426_AAV9-ELISA_igi_GN004240-033\\results_plate_1\\230426_GN004240-033_-_report_plate_1.pdf: withBinaryFile: permission denied (Permission denied)\n"
          ]
        },
        {
          "name": "stdout",
          "output_type": "stream",
          "text": [
            "Generating PDF c:\\work\\report-gen\\reports\\230426_AAV9-ELISA_igi_GN004240-033\\results_plate_2\\230426_GN004240-033_-_report_plate_2.pdf for c:\\work\\report-gen\\reports\\230426_AAV9-ELISA_igi_GN004240-033\\results_plate_2\\230426_GN004240-033_-_report_plate_2.md\n"
          ]
        },
        {
          "name": "stderr",
          "output_type": "stream",
          "text": [
            "pdflatex: major issue: So far, you have not checked for MiKTeX updates.\n",
            "pdflatex: major issue: So far, you have not checked for MiKTeX updates.\n"
          ]
        }
      ],
      "source": [
        "PDFLATEX_EXE = 'c:/Users/hwn6193/AppData/Local/Programs/MiKTeX/miktex/bin/x64/pdflatex.exe'\n",
        "REFERENCE_DOCX = 'C:/work/report-gen/custom-reference.docx'\n",
        "for report in reports:\n",
        "    report_file_path = path.abspath(report['path'])\n",
        "    report_dir = path.dirname(path.abspath(report_file_path))\n",
        "    docx_path = path.splitext(report_file_path)[0] + '.docx'\n",
        "    print('Generating Word {} for {}'.format(docx_path, report_file_path))\n",
        "    ! c:/work/pandoc/pandoc -o {docx_path} -f markdown -t docx --resource-path {report_dir} --reference-doc {REFERENCE_DOCX} {report_file_path}\n",
        "\n",
        "    pdf_path = path.splitext(report_file_path)[0] + '.pdf'\n",
        "    print(f'Generating PDF {pdf_path} for {report_file_path}')\n",
        "    ! c:/work/pandoc/pandoc -s -o {pdf_path} --resource-path {report_dir} --pdf-engine {PDFLATEX_EXE} {report_file_path}"
      ]
    },
    {
      "cell_type": "code",
      "execution_count": 10,
      "metadata": {},
      "outputs": [],
      "source": [
        "# ! c:/work/pandoc/pandoc -o custom-reference.docx --print-default-data-file reference.docx"
      ]
    }
  ],
  "metadata": {
    "colab": {
      "provenance": []
    },
    "kernelspec": {
      "display_name": "Python 3",
      "name": "python3"
    },
    "language_info": {
      "codemirror_mode": {
        "name": "ipython",
        "version": 3
      },
      "file_extension": ".py",
      "mimetype": "text/x-python",
      "name": "python",
      "nbconvert_exporter": "python",
      "pygments_lexer": "ipython3",
      "version": "3.9.13"
    }
  },
  "nbformat": 4,
  "nbformat_minor": 0
}
