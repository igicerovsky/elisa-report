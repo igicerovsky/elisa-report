{
  "cells": [
    {
      "attachments": {},
      "cell_type": "markdown",
      "metadata": {
        "id": "VzMkIHAq87Dq"
      },
      "source": [
        "# Intro"
      ]
    },
    {
      "attachments": {},
      "cell_type": "markdown",
      "metadata": {},
      "source": [
        "\n",
        "## Goal\n",
        "**WHAT**: Automatic report generation from Hamilton measurements.  \n",
        "**WHY**: Speed up the report generation, and avoid human errors (copying data, subjective evaluation, ....)\n",
        "\n",
        "## Tools\n",
        "Fast iteration in an agile way.  \n",
        "Generic approach - different plates setup, prameters, ... all with the same code, no changes needed.  \n",
        "\n",
        "**Python** programming language.  \n",
        "**jupyter** notebook is currently used, with some functions divided into small modules.  \n",
        "**Visual Studio Code** IDE (Integrated Development Environment).  \n",
        "**Markdown** (*.md) format for generated report (Simple, humanly redable).  \n",
        "\n",
        "## Input:\n",
        " - Worklist file path (*.xls) as used for Hamilton input.\n",
        "   - Sample name\n",
        "   - Dilution\n",
        "   - Viscosity\n",
        " - Measurement results file path (*.xls) as output from Hamilton.\n",
        " - Parameters; constants in code (file path *.json)\n",
        "   - CV (Coefficient of variation) threshold\n",
        "   - Referennce value (1.7954e+10 cp/ml)\n",
        "   - Dilutions [1.0, 2.0, 4.0, 8.0, 16.0, 32.0, 64.0]\n",
        "   - Decimal digits for output\n",
        "\n",
        "## Output:\n",
        "  - Report (*.md, printable to pdf)\n",
        "    - Could be manually edited\n",
        "    - Image files\n",
        "    - Result sheets\n",
        "  - Estimated size <2kB (current)\n",
        "\n",
        "## Done\n",
        "  - Invalid sample:\n",
        "    - CV >THRESHOLD\n",
        "    - Only one point\n",
        "  - Parameters file (*.scv, *.json)\n",
        "  - Multiple plates (in worklist file)\n",
        "\n",
        "## TODO:\n",
        "  - Modules\n",
        "  - Finalize the report\n",
        "  - Running modes\n",
        "    - Python script - automatic run (command line with parameters)\n",
        "    - GUI; use modules to crete an App (code remains the same, but used from GUI)\n",
        "  - Tests (unit, integration)\n",
        "  - checksum (*.sdax); put into report\n",
        "  - Extensive testing...\n",
        "  - Automatic print to *.pdf ?\n",
        "\n",
        "## Conclusion\n",
        "End to end evaluation time reduction approximately 2h -> 20min per measurement. (thx Felix)\n"
      ]
    },
    {
      "attachments": {},
      "cell_type": "markdown",
      "metadata": {},
      "source": [
        "# Generate report  - POC"
      ]
    },
    {
      "attachments": {},
      "cell_type": "markdown",
      "metadata": {},
      "source": [
        "## Imports"
      ]
    },
    {
      "cell_type": "code",
      "execution_count": 1,
      "metadata": {},
      "outputs": [],
      "source": [
        "VERBOSE_NOTEBOOK = False\n",
        "WARNING_DISABLE = True\n",
        "DEBUG = False"
      ]
    },
    {
      "cell_type": "code",
      "execution_count": 2,
      "metadata": {
        "id": "DScHnqGC95-6"
      },
      "outputs": [],
      "source": [
        "import pandas as pd\n",
        "import numpy as np\n",
        "from os import path\n",
        "import os\n",
        "import warnings\n",
        "from scipy.optimize import OptimizeWarning\n",
        "\n",
        "if WARNING_DISABLE:\n",
        "    warnings.simplefilter('ignore', RuntimeWarning)\n",
        "    warnings.simplefilter('ignore', OptimizeWarning)\n",
        "    warnings.filterwarnings('ignore', category=UserWarning, module='openpyxl')"
      ]
    },
    {
      "cell_type": "code",
      "execution_count": 3,
      "metadata": {},
      "outputs": [],
      "source": [
        "def make_input_paths(input_dir, base_name):\n",
        "    worklist = path.join(input_dir, base_name + 'worklist-ELISA.xls')\n",
        "    if not os.path.isfile(worklist):\n",
        "        raise Exception(\"Worklist file path is invlaid: {}\".format(worklist))\n",
        "\n",
        "    params = path.join(input_dir, base_name + 'AAV9-ELISA_Parameters.csv')\n",
        "\n",
        "    return {'worklist': worklist, 'params': params}\n",
        "\n",
        "def make_output_paths(input_dir, base_name, plate_id):\n",
        "    results =  path.join(input_dir, base_name + 'calc{}.xlsx'.format(plate_id))\n",
        "    if not os.path.isfile(results):\n",
        "        raise Exception(\"Rewsults file path is invlaid: {}\".format(results))\n",
        "    \n",
        "    report = path.join(input_dir, 'results_plate_{}'.format(plate_id))\n",
        "    report = path.join(report, '{}report_plate_{}.md'.format(base_name, plate_id))\n",
        "\n",
        "    return {'results': results, 'report': report}"
      ]
    },
    {
      "cell_type": "code",
      "execution_count": 4,
      "metadata": {},
      "outputs": [],
      "source": [
        "WORKING_DIR = './reports/input/'\n",
        "BASE_NAME = '230426_GN004240-033_-_'\n",
        "\n",
        "input_files = make_input_paths(WORKING_DIR, BASE_NAME)\n",
        "WORKLIST_FILE_PATH = input_files['worklist']\n",
        "PARAMS_FILE_PATH = input_files['params']\n",
        "\n",
        "DATA_DIR = './data'"
      ]
    },
    {
      "attachments": {},
      "cell_type": "markdown",
      "metadata": {
        "id": "BNLvIjir8ygz"
      },
      "source": [
        "## Layouts"
      ]
    },
    {
      "cell_type": "code",
      "execution_count": 5,
      "metadata": {
        "colab": {
          "base_uri": "https://localhost:8080/",
          "height": 300
        },
        "id": "EhcUq4gagUvF",
        "outputId": "419c96ca-d9f1-4c13-f3f8-ad9e23662719"
      },
      "outputs": [],
      "source": [
        "from layouthandle import read_plate_layout\n",
        "\n",
        "PLATE_LAYOUT_ID = 'plate_layout_ident.csv'\n",
        "PLATE_LAYOUT_NUM = 'plate_layout_num.csv'\n",
        "PLATE_LAYOUT_DIL_ID = 'plate_layout_dil_id.csv'\n",
        "\n",
        "g_plate_layout_id = read_plate_layout(path.join(DATA_DIR, PLATE_LAYOUT_ID))\n",
        "g_plate_layout_num = read_plate_layout(path.join(DATA_DIR, PLATE_LAYOUT_NUM))\n",
        "g_plate_layout_dil_id = read_plate_layout(path.join(DATA_DIR, PLATE_LAYOUT_DIL_ID))\n",
        "\n",
        "if VERBOSE_NOTEBOOK:\n",
        "    display(g_plate_layout_id)\n",
        "    display(g_plate_layout_num)\n",
        "    display(g_plate_layout_dil_id)"
      ]
    },
    {
      "attachments": {},
      "cell_type": "markdown",
      "metadata": {},
      "source": [
        "## Worklist"
      ]
    },
    {
      "cell_type": "code",
      "execution_count": 6,
      "metadata": {},
      "outputs": [],
      "source": [
        "import worklist as wk\n",
        "from readdata import read_params\n",
        "\n",
        "g_wl_raw = wk.read_worklist(WORKLIST_FILE_PATH)\n",
        "g_valid_plates = wk.check_worklist(g_wl_raw)\n",
        "g_params = read_params(PARAMS_FILE_PATH)"
      ]
    },
    {
      "attachments": {},
      "cell_type": "markdown",
      "metadata": {
        "id": "zV2iKp5f9-Ui"
      },
      "source": [
        "## Read data"
      ]
    },
    {
      "cell_type": "code",
      "execution_count": 7,
      "metadata": {
        "colab": {
          "base_uri": "https://localhost:8080/",
          "height": 237
        },
        "id": "9QyeTtP3gQN0",
        "outputId": "f07cb86c-f322-432b-abb5-f785f8efd4be"
      },
      "outputs": [
        {
          "name": "stdout",
          "output_type": "stream",
          "text": [
            "c:\\work\\report-gen\\reports\\input\\results_plate_1\n"
          ]
        }
      ],
      "source": [
        "PLATE_ID = 1 # plate id\n",
        "\n",
        "output_files = make_output_paths(WORKING_DIR, BASE_NAME, PLATE_ID)\n",
        "RESULT_FILE_PATH = output_files['results']\n",
        "REPORT_FILE_PATH = output_files['report']\n",
        "REPORT_DIR = os.path.dirname(os.path.abspath(REPORT_FILE_PATH))\n",
        "\n",
        "print(REPORT_DIR)"
      ]
    },
    {
      "cell_type": "code",
      "execution_count": 8,
      "metadata": {
        "colab": {
          "base_uri": "https://localhost:8080/",
          "height": 424
        },
        "id": "xoHKHdi6pVOp",
        "outputId": "25c35044-7f6c-405a-e516-cfd8c631a2cb"
      },
      "outputs": [],
      "source": [
        "from readdata import read_concat_data\n",
        "from readdata import concat_data_with_layouts\n",
        "\n",
        "g_od = read_concat_data(RESULT_FILE_PATH)\n",
        "df_all = concat_data_with_layouts(g_od, g_plate_layout_id, g_plate_layout_num, g_plate_layout_dil_id)\n",
        "\n",
        "if VERBOSE_NOTEBOOK:\n",
        "    display(g_od)\n",
        "    display(df_all)"
      ]
    },
    {
      "attachments": {},
      "cell_type": "markdown",
      "metadata": {},
      "source": [
        "### Dilution to Concentration\n",
        "\n",
        "Define dilution dataframe. The dataframe is indexed according plate layout, index of refference dataframe corresponds to refference of the `plate_layout_dil`."
      ]
    },
    {
      "cell_type": "code",
      "execution_count": 9,
      "metadata": {},
      "outputs": [],
      "source": [
        "# TODO: read reference value from parameters\n",
        "REF_VAL_MAX = 1.7954e+10\n",
        "DILUTIONS = [1.0, 2.0, 4.0, 8.0, 16.0, 32.0, 64.0]\n",
        "\n",
        "from sample import make_concentration\n",
        "g_reference_conc = make_concentration(REF_VAL_MAX, DILUTIONS)\n",
        "\n",
        "if VERBOSE_NOTEBOOK:\n",
        "    display(g_reference_conc)"
      ]
    },
    {
      "attachments": {},
      "cell_type": "markdown",
      "metadata": {},
      "source": [
        "## Report generation"
      ]
    },
    {
      "cell_type": "code",
      "execution_count": 10,
      "metadata": {},
      "outputs": [
        {
          "name": "stdout",
          "output_type": "stream",
          "text": [
            "Processing plate 1 of 2\n",
            "Processing plate 2 of 2\n",
            "\n",
            "Report CRC = 1960526278\n",
            "\n",
            "\n",
            "Report CRC = 187289463\n",
            "\n"
          ]
        },
        {
          "data": {
            "text/plain": [
              "<Figure size 640x480 with 0 Axes>"
            ]
          },
          "metadata": {},
          "output_type": "display_data"
        }
      ],
      "source": [
        "from reportmain import report_plate, check_report_crc\n",
        "from md2pdf.core import md2pdf\n",
        "\n",
        "EXPORT_TO_PDF = True\n",
        "CHECK_REPORT_CRC = True\n",
        "REPORT_PLATES_CRC = [1960526278, 187289463]\n",
        "\n",
        "def gen_report(valid_plates, worklist, params,\n",
        "               working_dir, base_name):\n",
        "    reports = []\n",
        "    for plate in valid_plates:\n",
        "        print('Processing plate {} of {}'.format(plate, len(valid_plates)))\n",
        "\n",
        "        output_files = make_output_paths(working_dir, base_name, plate)\n",
        "        result_file_path = output_files['results']\n",
        "        report_file_path = output_files['report']\n",
        "        report_dir = os.path.dirname(os.path.abspath(report_file_path))\n",
        "        reports.append(report_plate(plate, worklist, params, \n",
        "                    g_plate_layout_id, g_plate_layout_num, g_plate_layout_dil_id,\n",
        "                    g_reference_conc, result_file_path, report_dir, report_file_path\n",
        "                    ))\n",
        "    return reports\n",
        "\n",
        "\n",
        "reports = gen_report(g_valid_plates, g_wl_raw, g_params, WORKING_DIR, BASE_NAME)\n",
        "if CHECK_REPORT_CRC:\n",
        "    for report, crc in zip(reports, REPORT_PLATES_CRC):\n",
        "        check_report_crc(report, crc)\n",
        "\n",
        "# if EXPORT_TO_PDF:\n",
        "#     pdf_file_path = path.join(report_dir,\"{}.pdf\".format(os.path.basename(report_file_path)))\n",
        "#     md2pdf(pdf_file_path,\n",
        "#         md_content=report,\n",
        "#         md_file_path=None,\n",
        "#         css_file_path=None,\n",
        "#         base_url=None)"
      ]
    }
  ],
  "metadata": {
    "colab": {
      "provenance": []
    },
    "kernelspec": {
      "display_name": "Python 3",
      "name": "python3"
    },
    "language_info": {
      "codemirror_mode": {
        "name": "ipython",
        "version": 3
      },
      "file_extension": ".py",
      "mimetype": "text/x-python",
      "name": "python",
      "nbconvert_exporter": "python",
      "pygments_lexer": "ipython3",
      "version": "3.9.13"
    }
  },
  "nbformat": 4,
  "nbformat_minor": 0
}
