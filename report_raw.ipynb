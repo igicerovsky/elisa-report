{
  "cells": [
    {
      "attachments": {},
      "cell_type": "markdown",
      "metadata": {},
      "source": [
        "# Generate report from exprted photometer data  \n",
        "\n",
        "Use raw folder with photometer exported data"
      ]
    },
    {
      "attachments": {},
      "cell_type": "markdown",
      "metadata": {},
      "source": [
        "## Imports"
      ]
    },
    {
      "cell_type": "code",
      "execution_count": null,
      "metadata": {},
      "outputs": [],
      "source": [
        "VERBOSE_NOTEBOOK = False\n",
        "WARNING_DISABLE = True\n",
        "DEBUG = False"
      ]
    },
    {
      "cell_type": "code",
      "execution_count": null,
      "metadata": {
        "id": "DScHnqGC95-6"
      },
      "outputs": [],
      "source": [
        "from os import path\n",
        "import warnings\n",
        "from scipy.optimize import OptimizeWarning\n",
        "\n",
        "if WARNING_DISABLE:\n",
        "    warnings.simplefilter('ignore', RuntimeWarning)\n",
        "    warnings.simplefilter('ignore', OptimizeWarning)\n",
        "    warnings.filterwarnings('ignore', category=UserWarning, module='openpyxl')"
      ]
    },
    {
      "cell_type": "code",
      "execution_count": null,
      "metadata": {},
      "outputs": [],
      "source": [
        "from hamrep.mkinout import make_input_paths, parse_dir_name\n",
        "\n",
        "# WORKING_DIR = './reports/export/230801_AAV9-ELISA_sey_GN004240-053'\n",
        "WORKING_DIR = 'reports/export/230801_AAV9-ELISA_sey_GN004240-053'\n",
        "DATA_DIR = './data'\n",
        "\n",
        "PARSED_DIR = parse_dir_name(WORKING_DIR)\n",
        "\n",
        "input_files = make_input_paths(WORKING_DIR)\n",
        "WORKLIST_FILE_PATH = input_files['worklist']\n",
        "PARAMS_FILE_PATH = input_files['params']"
      ]
    },
    {
      "cell_type": "code",
      "execution_count": null,
      "metadata": {},
      "outputs": [],
      "source": [
        "from dataclasses import dataclass\n",
        "import json\n",
        "\n",
        "\n",
        "@dataclass\n",
        "class Config:\n",
        "    def __init__(self,\n",
        "                 pandoc_bin: path,\n",
        "                 pdflatex_bin: path,\n",
        "                 reference_docx: path,\n",
        "                 data_dir: path = \"./data\",\n",
        "                 params_filename: path = \"./data/params.json\",\n",
        "                 plate_layout_id: path = \"./data/plate_layout_ident.csv\",\n",
        "                 plate_layout_num: path = \"./data/plate_layout_num.csv\",\n",
        "                 plate_layout_dil_id: path = \"./data/plate_layout_dil_id.csv\",\n",
        "                 numeric_warning_disable: bool = True\n",
        "                 ):\n",
        "        self.pandoc_bin = pandoc_bin\n",
        "        self.pdflatex_bin = pdflatex_bin\n",
        "        self.reference_docx = reference_docx\n",
        "        self.data_dir = data_dir\n",
        "        self.params_filename = params_filename\n",
        "        self.plate_layout_id = plate_layout_id\n",
        "        self.plate_layout_num = plate_layout_num\n",
        "        self.plate_layout_dil_id = plate_layout_dil_id\n",
        "        self.numeric_warning_disable = numeric_warning_disable\n",
        "\n",
        "\n",
        "def read_config(cfg_path):\n",
        "    with open(path.join(DATA_DIR, \"config.json\")) as json_file:\n",
        "        jd = json.load(json_file)\n",
        "\n",
        "    return Config(jd['pandoc_bin'], jd['pdflatex_bin'], jd['reference_docx'])\n",
        "\n",
        "\n",
        "cfg = read_config('./data/config.json')\n",
        "cfg.params_filename"
      ]
    },
    {
      "attachments": {},
      "cell_type": "markdown",
      "metadata": {
        "id": "BNLvIjir8ygz"
      },
      "source": [
        "## Layouts"
      ]
    },
    {
      "cell_type": "code",
      "execution_count": null,
      "metadata": {
        "colab": {
          "base_uri": "https://localhost:8080/",
          "height": 300
        },
        "id": "EhcUq4gagUvF",
        "outputId": "419c96ca-d9f1-4c13-f3f8-ad9e23662719"
      },
      "outputs": [],
      "source": [
        "from hamrep.readdata import read_layouts\n",
        "\n",
        "PLATE_LAYOUT_ID = 'plate_layout_ident.csv'\n",
        "PLATE_LAYOUT_NUM = 'plate_layout_num.csv'\n",
        "PLATE_LAYOUT_DIL_ID = 'plate_layout_dil_id.csv'\n",
        "\n",
        "\n",
        "g_lay = read_layouts(path.join(DATA_DIR, PLATE_LAYOUT_ID),\n",
        "                     path.join(DATA_DIR, PLATE_LAYOUT_NUM),\n",
        "                     path.join(DATA_DIR, PLATE_LAYOUT_DIL_ID))\n",
        "\n",
        "if VERBOSE_NOTEBOOK:\n",
        "    display(g_lay)"
      ]
    },
    {
      "attachments": {},
      "cell_type": "markdown",
      "metadata": {},
      "source": [
        "## Worklist"
      ]
    },
    {
      "cell_type": "code",
      "execution_count": null,
      "metadata": {},
      "outputs": [],
      "source": [
        "from hamrep.worklist import predil_worklist, check_worklist\n",
        "from hamrep.readdata import read_params\n",
        "\n",
        "wl_raw = predil_worklist(WORKLIST_FILE_PATH)\n",
        "params = read_params(PARAMS_FILE_PATH)"
      ]
    },
    {
      "attachments": {},
      "cell_type": "markdown",
      "metadata": {},
      "source": [
        "## Dilution to Concentration\n",
        "\n",
        "Define dilution dataframe. The dataframe is indexed according plate layout, index of refference dataframe corresponds to refference of the `plate_layout_dil`."
      ]
    },
    {
      "cell_type": "code",
      "execution_count": null,
      "metadata": {},
      "outputs": [],
      "source": [
        "# TODO: read reference value from parameters\n",
        "from hamrep.sample import make_concentration\n",
        "REF_VAL_MAX = 1.7954e+10\n",
        "DILUTIONS = [1.0, 2.0, 4.0, 8.0, 16.0, 32.0, 64.0]\n",
        "\n",
        "reference_conc = make_concentration(REF_VAL_MAX, DILUTIONS)\n",
        "\n",
        "if VERBOSE_NOTEBOOK:\n",
        "    display(reference_conc)"
      ]
    },
    {
      "attachments": {},
      "cell_type": "markdown",
      "metadata": {},
      "source": [
        "## Report generation"
      ]
    },
    {
      "cell_type": "code",
      "execution_count": null,
      "metadata": {},
      "outputs": [],
      "source": [
        "from hamrep.reportgen import gen_report_raw\n",
        "\n",
        "reports = gen_report_raw(wl_raw, params, g_lay, reference_conc, WORKING_DIR)"
      ]
    },
    {
      "cell_type": "code",
      "execution_count": null,
      "metadata": {},
      "outputs": [],
      "source": [
        "from hamrep.mdhandling import md2docx, md2pdf, export_main_report\n",
        "from hamrep.reportmd import save_md\n",
        "\n",
        "export_main_report(reports, WORKING_DIR, cfg.pandoc_bin, cfg.reference_docx)\n",
        "\n",
        "docxr = True\n",
        "pdf = True\n",
        "for report in reports:\n",
        "    print('Report for plate {} saved as {}'.format(\n",
        "        report['plate'], report['path']))\n",
        "    save_md(report['path'], report['md'])\n",
        "\n",
        "    # TODO: save unformatted results\n",
        "    xlsx_file = path.splitext(report['path'])[0] + '_results.xlsx'\n",
        "    report['df'].to_excel(xlsx_file)\n",
        "\n",
        "    if docxr:\n",
        "        md2docx(cfg.pandoc_bin, cfg.reference_docx, report['path'])\n",
        "    if pdf:\n",
        "        md2pdf(cfg.pandoc_bin, cfg.pdflatex_bin, report['path'])\n",
        "\n",
        "print('Done.')"
      ]
    },
    {
      "cell_type": "code",
      "execution_count": null,
      "metadata": {},
      "outputs": [],
      "source": [
        "from hamrep.reportmain import check_report_crc\n",
        "\n",
        "CHECK_REPORT_CRC = True\n",
        "REPORT_PLATES_CRC = [4195121021, 1426265408, 2440240818]\n",
        "if CHECK_REPORT_CRC:\n",
        "    for report, crc in zip(reports, REPORT_PLATES_CRC):\n",
        "        try:\n",
        "            check_report_crc(report['md'], crc)\n",
        "        except Exception as e:\n",
        "            print('{} for {}'.format(e, report['path']))"
      ]
    },
    {
      "cell_type": "markdown",
      "metadata": {},
      "source": [
        "Uncomment the next block to build the module"
      ]
    },
    {
      "cell_type": "code",
      "execution_count": null,
      "metadata": {},
      "outputs": [],
      "source": [
        "! python -m build --sdist --wheel"
      ]
    },
    {
      "cell_type": "code",
      "execution_count": null,
      "metadata": {},
      "outputs": [],
      "source": [
        "import hamrep.layouthandle as hl\n",
        "import data.layouts as ly\n",
        "\n",
        "hl.to_matrix(ly.l_plate_layout_ident, 7)"
      ]
    },
    {
      "cell_type": "code",
      "execution_count": null,
      "metadata": {},
      "outputs": [],
      "source": [
        "l1 = [['a', 1], ['b', 2], ['c', 3]]\n",
        "l2 = [['a', 1], ['b', 2], ['c', 3]]\n",
        "\n",
        "l1 == l2"
      ]
    }
  ],
  "metadata": {
    "colab": {
      "provenance": []
    },
    "kernelspec": {
      "display_name": "Python 3",
      "name": "python3"
    },
    "language_info": {
      "codemirror_mode": {
        "name": "ipython",
        "version": 3
      },
      "file_extension": ".py",
      "mimetype": "text/x-python",
      "name": "python",
      "nbconvert_exporter": "python",
      "pygments_lexer": "ipython3",
      "version": "3.10.10"
    }
  },
  "nbformat": 4,
  "nbformat_minor": 0
}
