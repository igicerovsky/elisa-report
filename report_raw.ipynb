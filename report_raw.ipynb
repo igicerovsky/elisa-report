{
  "cells": [
    {
      "attachments": {},
      "cell_type": "markdown",
      "metadata": {},
      "source": [
        "# Generate report from exprted photometer data  \n",
        "\n",
        "Use raw folder with photometer exported data"
      ]
    },
    {
      "attachments": {},
      "cell_type": "markdown",
      "metadata": {},
      "source": [
        "## Imports"
      ]
    },
    {
      "cell_type": "code",
      "execution_count": null,
      "metadata": {},
      "outputs": [],
      "source": [
        "VERBOSE_NOTEBOOK = False\n",
        "WARNING_DISABLE = True\n",
        "DEBUG = False"
      ]
    },
    {
      "cell_type": "code",
      "execution_count": null,
      "metadata": {
        "id": "DScHnqGC95-6"
      },
      "outputs": [],
      "source": [
        "from os import path\n",
        "import warnings\n",
        "from scipy.optimize import OptimizeWarning\n",
        "\n",
        "if WARNING_DISABLE:\n",
        "    warnings.simplefilter('ignore', RuntimeWarning)\n",
        "    warnings.simplefilter('ignore', OptimizeWarning)\n",
        "    warnings.filterwarnings('ignore', category=UserWarning, module='openpyxl')"
      ]
    },
    {
      "cell_type": "code",
      "execution_count": null,
      "metadata": {},
      "outputs": [],
      "source": [
        "from mkinout import make_input_paths, parse_dir_name\n",
        "\n",
        "WORKING_DIR = './reports/export/230712_AAV8-ELISA_sey_GN004240-048'\n",
        "DATA_DIR = './data'\n",
        "\n",
        "PARSED_DIR = parse_dir_name(WORKING_DIR)\n",
        "WORKLIST_FILE_PATH = path.join(WORKING_DIR,  PARSED_DIR['date'] + '_worklist-ELISA.xls')\n",
        "if not path.isfile(WORKLIST_FILE_PATH):\n",
        "    raise Exception(f'Invalit worklist file {WORKLIST_FILE_PATH}!')\n",
        "\n",
        "PARAMS_FILE_PATH = path.join(WORKING_DIR, PARSED_DIR['date'] + '_Parameters_' + PARSED_DIR['protocol'] + '.csv')\n",
        "if not path.isfile(PARAMS_FILE_PATH):\n",
        "    raise Exception(f'Invalid parameters file {PARAMS_FILE_PATH}!')"
      ]
    },
    {
      "attachments": {},
      "cell_type": "markdown",
      "metadata": {
        "id": "BNLvIjir8ygz"
      },
      "source": [
        "## Layouts"
      ]
    },
    {
      "cell_type": "code",
      "execution_count": null,
      "metadata": {
        "colab": {
          "base_uri": "https://localhost:8080/",
          "height": 300
        },
        "id": "EhcUq4gagUvF",
        "outputId": "419c96ca-d9f1-4c13-f3f8-ad9e23662719"
      },
      "outputs": [],
      "source": [
        "from readdata import read_layouts\n",
        "\n",
        "PLATE_LAYOUT_ID = 'plate_layout_ident.csv'\n",
        "PLATE_LAYOUT_NUM = 'plate_layout_num.csv'\n",
        "PLATE_LAYOUT_DIL_ID = 'plate_layout_dil_id.csv'\n",
        "\n",
        "\n",
        "g_lay = read_layouts(path.join(DATA_DIR, PLATE_LAYOUT_ID),\n",
        "                     path.join(DATA_DIR, PLATE_LAYOUT_NUM),\n",
        "                     path.join(DATA_DIR, PLATE_LAYOUT_DIL_ID))\n",
        "\n",
        "if VERBOSE_NOTEBOOK:\n",
        "    display(g_lay)"
      ]
    },
    {
      "attachments": {},
      "cell_type": "markdown",
      "metadata": {},
      "source": [
        "## Worklist"
      ]
    },
    {
      "cell_type": "code",
      "execution_count": null,
      "metadata": {},
      "outputs": [],
      "source": [
        "from worklist import read_worklist, check_worklist\n",
        "from readdata import read_params\n",
        "\n",
        "g_wl_raw = read_worklist(WORKLIST_FILE_PATH)\n",
        "g_valid_plates = check_worklist(g_wl_raw)\n",
        "g_params = read_params(PARAMS_FILE_PATH)"
      ]
    },
    {
      "attachments": {},
      "cell_type": "markdown",
      "metadata": {},
      "source": [
        "## Dilution to Concentration\n",
        "\n",
        "Define dilution dataframe. The dataframe is indexed according plate layout, index of refference dataframe corresponds to refference of the `plate_layout_dil`."
      ]
    },
    {
      "cell_type": "code",
      "execution_count": null,
      "metadata": {},
      "outputs": [],
      "source": [
        "# TODO: read reference value from parameters\n",
        "REF_VAL_MAX = 1.7954e+10\n",
        "DILUTIONS = [1.0, 2.0, 4.0, 8.0, 16.0, 32.0, 64.0]\n",
        "\n",
        "from sample import make_concentration\n",
        "g_reference_conc = make_concentration(REF_VAL_MAX, DILUTIONS)\n",
        "\n",
        "if VERBOSE_NOTEBOOK:\n",
        "    display(g_reference_conc)"
      ]
    },
    {
      "attachments": {},
      "cell_type": "markdown",
      "metadata": {},
      "source": [
        "## Report generation"
      ]
    },
    {
      "cell_type": "code",
      "execution_count": null,
      "metadata": {},
      "outputs": [],
      "source": [
        "from reportmain import report_plate, check_report_crc\n",
        "from mkinout import make_output_paths, basename_from_inputdir, parse_dir_name\n",
        "from datetime import datetime\n",
        "\n",
        "def make_input_analysis_txt(work_dir, protocol, plate_id, dt):\n",
        "    sdt = dt.strftime('%Y%m%d_%H%M%S')\n",
        "    sd = dt.strftime('%y%m%d')\n",
        "    f = f'{sd}_{protocol}__{plate_id}_{sdt}.txt'\n",
        "    p = path.join(work_dir, f)\n",
        "    if not path.isfile(p):\n",
        "        raise Exception(f'Invalid plate export file {p}!')\n",
        "    return p\n",
        "\n",
        "\n",
        "def gen_report(valid_plates, worklist, params, layout, reference_conc,\n",
        "               working_dir, base_name):\n",
        "    reports = []\n",
        "    for plate in valid_plates:\n",
        "        print('Processing plate {} of {}'.format(plate, len(valid_plates)))\n",
        "\n",
        "        output_files = make_output_paths(working_dir, base_name, plate)\n",
        "        # TODO !!! FIXED DATETIME !!!\n",
        "        dt = datetime(2023, 7, 12, 9, 7, 48)\n",
        "        analysis_file_path = make_input_analysis_txt(working_dir, PARSED_DIR['protocol'],\n",
        "                                                     plate, dt)\n",
        "        report_file_path = output_files['report']\n",
        "        # results_file_path = output_files['plate_results']\n",
        "\n",
        "        report_dir = path.dirname(path.abspath(report_file_path))\n",
        "        info = parse_dir_name(working_dir)\n",
        "        md = report_plate(plate, worklist, params, layout,\n",
        "                    reference_conc, analysis_file_path, report_dir, report_file_path,\n",
        "                    info\n",
        "                    )\n",
        "        reports.append({'md': md, 'path': report_file_path})\n",
        "    return reports\n",
        "\n",
        "reports = gen_report(g_valid_plates, g_wl_raw, g_params, g_lay, g_reference_conc,\n",
        "    WORKING_DIR, basename_from_inputdir(WORKING_DIR))"
      ]
    },
    {
      "cell_type": "code",
      "execution_count": null,
      "metadata": {},
      "outputs": [],
      "source": [
        "CHECK_REPORT_CRC = True\n",
        "REPORT_PLATES_CRC = [864111381, 3242056329]\n",
        "if CHECK_REPORT_CRC:\n",
        "    for report, crc in zip(reports, REPORT_PLATES_CRC):\n",
        "        try:\n",
        "            check_report_crc(report['md'], crc)\n",
        "        except Exception as e:\n",
        "            print('{} for {}'.format(e, report['path']))"
      ]
    },
    {
      "cell_type": "markdown",
      "metadata": {},
      "source": [
        "Use pandoc to convert markdown to Word."
      ]
    },
    {
      "cell_type": "code",
      "execution_count": null,
      "metadata": {},
      "outputs": [],
      "source": [
        "PDFLATEX_EXE = 'c:/Users/hwn6193/AppData/Local/Programs/MiKTeX/miktex/bin/x64/pdflatex.exe'\n",
        "REFERENCE_DOCX = 'C:/work/report-gen/custom-reference.docx'\n",
        "for report in reports:\n",
        "    report_file_path = path.abspath(report['path'])\n",
        "    report_dir = path.dirname(path.abspath(report_file_path))\n",
        "    docx_path = path.splitext(report_file_path)[0] + '.docx'\n",
        "    print('Generating Word {} for {}'.format(docx_path, report_file_path))\n",
        "    ! c:/work/pandoc/pandoc -o {docx_path} -f markdown -t docx --resource-path {report_dir} --reference-doc {REFERENCE_DOCX} {report_file_path}\n",
        "\n",
        "    pdf_path = path.splitext(report_file_path)[0] + '.pdf'\n",
        "    print(f'Generating PDF {pdf_path} for {report_file_path}')\n",
        "    ! c:/work/pandoc/pandoc -s -o {pdf_path} --resource-path {report_dir} --pdf-engine {PDFLATEX_EXE} {report_file_path}"
      ]
    },
    {
      "cell_type": "code",
      "execution_count": null,
      "metadata": {},
      "outputs": [],
      "source": [
        "# ! c:/work/pandoc/pandoc -o custom-reference.docx --print-default-data-file reference.docx"
      ]
    }
  ],
  "metadata": {
    "colab": {
      "provenance": []
    },
    "kernelspec": {
      "display_name": "Python 3",
      "name": "python3"
    },
    "language_info": {
      "codemirror_mode": {
        "name": "ipython",
        "version": 3
      },
      "file_extension": ".py",
      "mimetype": "text/x-python",
      "name": "python",
      "nbconvert_exporter": "python",
      "pygments_lexer": "ipython3",
      "version": "3.9.13"
    }
  },
  "nbformat": 4,
  "nbformat_minor": 0
}
