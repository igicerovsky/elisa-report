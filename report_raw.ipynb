{
  "cells": [
    {
      "attachments": {},
      "cell_type": "markdown",
      "metadata": {},
      "source": [
        "# Generate report from exprted photometer data  \n",
        "\n",
        "Use raw folder with photometer exported data"
      ]
    },
    {
      "attachments": {},
      "cell_type": "markdown",
      "metadata": {},
      "source": [
        "## Imports"
      ]
    },
    {
      "cell_type": "code",
      "execution_count": 1,
      "metadata": {},
      "outputs": [],
      "source": [
        "VERBOSE_NOTEBOOK = False\n",
        "WARNING_DISABLE = True\n",
        "DEBUG = False"
      ]
    },
    {
      "cell_type": "code",
      "execution_count": 2,
      "metadata": {
        "id": "DScHnqGC95-6"
      },
      "outputs": [],
      "source": [
        "from os import path\n",
        "import warnings\n",
        "from scipy.optimize import OptimizeWarning\n",
        "\n",
        "if WARNING_DISABLE:\n",
        "    warnings.simplefilter('ignore', RuntimeWarning)\n",
        "    warnings.simplefilter('ignore', OptimizeWarning)\n",
        "    warnings.filterwarnings('ignore', category=UserWarning, module='openpyxl')"
      ]
    },
    {
      "cell_type": "code",
      "execution_count": 3,
      "metadata": {},
      "outputs": [],
      "source": [
        "from hamrep.mkinout import make_input_paths, parse_dir_name\n",
        "\n",
        "WORKING_DIR = './reports/export/230801_AAV9-ELISA_sey_GN004240-053'\n",
        "DATA_DIR = './data'\n",
        "\n",
        "PARSED_DIR = parse_dir_name(WORKING_DIR)\n",
        "\n",
        "input_files = make_input_paths(WORKING_DIR)\n",
        "WORKLIST_FILE_PATH = input_files['worklist']\n",
        "PARAMS_FILE_PATH = input_files['params']"
      ]
    },
    {
      "cell_type": "code",
      "execution_count": 4,
      "metadata": {},
      "outputs": [
        {
          "data": {
            "text/plain": [
              "'./data/params.json'"
            ]
          },
          "execution_count": 4,
          "metadata": {},
          "output_type": "execute_result"
        }
      ],
      "source": [
        "from dataclasses import dataclass\n",
        "import json\n",
        "\n",
        "@dataclass\n",
        "class Config:\n",
        "    def __init__(self, \n",
        "        pandoc_bin: path,\n",
        "        pdflatex_bin: path,\n",
        "        reference_docx: path,\n",
        "        data_dir: path = \"./data\",\n",
        "        params_filename: path = \"./data/params.json\",\n",
        "        plate_layout_id: path = \"./data/plate_layout_ident.csv\",\n",
        "        plate_layout_num: path = \"./data/plate_layout_num.csv\",\n",
        "        plate_layout_dil_id: path = \"./data/plate_layout_dil_id.csv\",\n",
        "        numeric_warning_disable: bool = True \n",
        "    ):\n",
        "        self.pandoc_bin = pandoc_bin\n",
        "        self.pdflatex_bin = pdflatex_bin\n",
        "        self.reference_docx = reference_docx\n",
        "        self.data_dir = data_dir\n",
        "        self.params_filename = params_filename\n",
        "        self.plate_layout_id = plate_layout_id\n",
        "        self.plate_layout_num = plate_layout_num\n",
        "        self.plate_layout_dil_id = plate_layout_dil_id\n",
        "        self.numeric_warning_disable = numeric_warning_disable\n",
        "\n",
        "def read_config(cfg_path):\n",
        "    with open(path.join(DATA_DIR, \"config.json\")) as json_file:\n",
        "        jd = json.load(json_file)\n",
        "\n",
        "    return Config(jd['pandoc_bin'], jd['pdflatex_bin'], jd['reference_docx'])\n",
        "\n",
        "cfg = read_config('./data/config.json')\n",
        "cfg.params_filename"
      ]
    },
    {
      "attachments": {},
      "cell_type": "markdown",
      "metadata": {
        "id": "BNLvIjir8ygz"
      },
      "source": [
        "## Layouts"
      ]
    },
    {
      "cell_type": "code",
      "execution_count": 5,
      "metadata": {
        "colab": {
          "base_uri": "https://localhost:8080/",
          "height": 300
        },
        "id": "EhcUq4gagUvF",
        "outputId": "419c96ca-d9f1-4c13-f3f8-ad9e23662719"
      },
      "outputs": [],
      "source": [
        "from hamrep.readdata import read_layouts\n",
        "\n",
        "PLATE_LAYOUT_ID = 'plate_layout_ident.csv'\n",
        "PLATE_LAYOUT_NUM = 'plate_layout_num.csv'\n",
        "PLATE_LAYOUT_DIL_ID = 'plate_layout_dil_id.csv'\n",
        "\n",
        "\n",
        "g_lay = read_layouts(path.join(DATA_DIR, PLATE_LAYOUT_ID),\n",
        "                     path.join(DATA_DIR, PLATE_LAYOUT_NUM),\n",
        "                     path.join(DATA_DIR, PLATE_LAYOUT_DIL_ID))\n",
        "\n",
        "if VERBOSE_NOTEBOOK:\n",
        "    display(g_lay)"
      ]
    },
    {
      "attachments": {},
      "cell_type": "markdown",
      "metadata": {},
      "source": [
        "## Worklist"
      ]
    },
    {
      "cell_type": "code",
      "execution_count": 6,
      "metadata": {},
      "outputs": [],
      "source": [
        "from hamrep.worklist import read_worklist, check_worklist\n",
        "from hamrep.readdata import read_params\n",
        "\n",
        "wl_raw = read_worklist(WORKLIST_FILE_PATH)\n",
        "params = read_params(PARAMS_FILE_PATH)"
      ]
    },
    {
      "attachments": {},
      "cell_type": "markdown",
      "metadata": {},
      "source": [
        "## Dilution to Concentration\n",
        "\n",
        "Define dilution dataframe. The dataframe is indexed according plate layout, index of refference dataframe corresponds to refference of the `plate_layout_dil`."
      ]
    },
    {
      "cell_type": "code",
      "execution_count": 7,
      "metadata": {},
      "outputs": [],
      "source": [
        "# TODO: read reference value from parameters\n",
        "REF_VAL_MAX = 1.7954e+10\n",
        "DILUTIONS = [1.0, 2.0, 4.0, 8.0, 16.0, 32.0, 64.0]\n",
        "\n",
        "from hamrep.sample import make_concentration\n",
        "reference_conc = make_concentration(REF_VAL_MAX, DILUTIONS)\n",
        "\n",
        "if VERBOSE_NOTEBOOK:\n",
        "    display(reference_conc)"
      ]
    },
    {
      "attachments": {},
      "cell_type": "markdown",
      "metadata": {},
      "source": [
        "## Report generation"
      ]
    },
    {
      "cell_type": "code",
      "execution_count": 8,
      "metadata": {},
      "outputs": [
        {
          "name": "stdout",
          "output_type": "stream",
          "text": [
            "['./reports/export/230801_AAV9-ELISA_sey_GN004240-053\\\\230801_AAV9-ELISA_1_20230801_105939.txt', './reports/export/230801_AAV9-ELISA_sey_GN004240-053\\\\230801_AAV9-ELISA_2_20230801_105939.txt', './reports/export/230801_AAV9-ELISA_sey_GN004240-053\\\\230801_AAV9-ELISA_3_20230801_105939.txt']\n",
            "Processing plate 1 of 3\n"
          ]
        },
        {
          "name": "stderr",
          "output_type": "stream",
          "text": [
            "100%|██████████| 21/21 [00:05<00:00,  3.71it/s]\n"
          ]
        },
        {
          "name": "stdout",
          "output_type": "stream",
          "text": [
            "Processing plate 2 of 3\n"
          ]
        },
        {
          "name": "stderr",
          "output_type": "stream",
          "text": [
            "100%|██████████| 21/21 [00:05<00:00,  3.90it/s]\n"
          ]
        },
        {
          "name": "stdout",
          "output_type": "stream",
          "text": [
            "Processing plate 3 of 3\n"
          ]
        },
        {
          "name": "stderr",
          "output_type": "stream",
          "text": [
            "100%|██████████| 21/21 [00:05<00:00,  3.70it/s]\n"
          ]
        },
        {
          "data": {
            "text/plain": [
              "<Figure size 640x480 with 0 Axes>"
            ]
          },
          "metadata": {},
          "output_type": "display_data"
        }
      ],
      "source": [
        "from hamrep.reportgen import gen_report_raw\n",
        "\n",
        "reports = gen_report_raw(wl_raw, params, g_lay, reference_conc, WORKING_DIR)"
      ]
    },
    {
      "cell_type": "code",
      "execution_count": 14,
      "metadata": {},
      "outputs": [
        {
          "name": "stdout",
          "output_type": "stream",
          "text": [
            "Generating Word ./reports/export/230801_AAV9-ELISA_sey_GN004240-053\\230801_AAV9-ELISA.docx from ./reports/export/230801_AAV9-ELISA_sey_GN004240-053\\230801_AAV9-ELISA.md\n",
            "Report for plate 1 saved as ./reports/export/230801_AAV9-ELISA_sey_GN004240-053\\results_plate_1\\230801_GN004240-053_-_report_plate_1.md\n",
            "Generating Word ./reports/export/230801_AAV9-ELISA_sey_GN004240-053\\results_plate_1\\230801_GN004240-053_-_report_plate_1.docx from ./reports/export/230801_AAV9-ELISA_sey_GN004240-053\\results_plate_1\\230801_GN004240-053_-_report_plate_1.md\n",
            "Generating PDF ./reports/export/230801_AAV9-ELISA_sey_GN004240-053\\results_plate_1\\230801_GN004240-053_-_report_plate_1.pdf from ./reports/export/230801_AAV9-ELISA_sey_GN004240-053\\results_plate_1\\230801_GN004240-053_-_report_plate_1.md\n",
            "Report for plate 2 saved as ./reports/export/230801_AAV9-ELISA_sey_GN004240-053\\results_plate_2\\230801_GN004240-053_-_report_plate_2.md\n",
            "Generating Word ./reports/export/230801_AAV9-ELISA_sey_GN004240-053\\results_plate_2\\230801_GN004240-053_-_report_plate_2.docx from ./reports/export/230801_AAV9-ELISA_sey_GN004240-053\\results_plate_2\\230801_GN004240-053_-_report_plate_2.md\n",
            "Generating PDF ./reports/export/230801_AAV9-ELISA_sey_GN004240-053\\results_plate_2\\230801_GN004240-053_-_report_plate_2.pdf from ./reports/export/230801_AAV9-ELISA_sey_GN004240-053\\results_plate_2\\230801_GN004240-053_-_report_plate_2.md\n",
            "Report for plate 3 saved as ./reports/export/230801_AAV9-ELISA_sey_GN004240-053\\results_plate_3\\230801_GN004240-053_-_report_plate_3.md\n",
            "Generating Word ./reports/export/230801_AAV9-ELISA_sey_GN004240-053\\results_plate_3\\230801_GN004240-053_-_report_plate_3.docx from ./reports/export/230801_AAV9-ELISA_sey_GN004240-053\\results_plate_3\\230801_GN004240-053_-_report_plate_3.md\n",
            "Generating PDF ./reports/export/230801_AAV9-ELISA_sey_GN004240-053\\results_plate_3\\230801_GN004240-053_-_report_plate_3.pdf from ./reports/export/230801_AAV9-ELISA_sey_GN004240-053\\results_plate_3\\230801_GN004240-053_-_report_plate_3.md\n",
            "Done.\n"
          ]
        }
      ],
      "source": [
        "from hamrep.mdhandling import md2docx, md2pdf, export_main_report\n",
        "from hamrep.reportmd import save_md\n",
        "\n",
        "export_main_report(reports, WORKING_DIR, cfg.pandoc_bin, cfg.reference_docx)\n",
        "\n",
        "docxr = True\n",
        "pdf = True\n",
        "for report in reports:\n",
        "    print('Report for plate {} saved as {}'.format(report['plate'], report['path']))\n",
        "    save_md(report['path'], report['md'])\n",
        "\n",
        "    # TODO: save unformatted results\n",
        "    xlsx_file = path.splitext(report['path'])[0] + '_results.xlsx'\n",
        "    report['df'].to_excel(xlsx_file)\n",
        "\n",
        "    if docxr:\n",
        "        md2docx(cfg.pandoc_bin, cfg.reference_docx, report['path'])\n",
        "    if pdf:\n",
        "        md2pdf(cfg.pandoc_bin, cfg.pdflatex_bin, report['path'])\n",
        "\n",
        "print('Done.')"
      ]
    },
    {
      "cell_type": "code",
      "execution_count": null,
      "metadata": {},
      "outputs": [],
      "source": [
        "from hamrep.reportmain import check_report_crc\n",
        "\n",
        "CHECK_REPORT_CRC = True\n",
        "REPORT_PLATES_CRC = [3422234280, 3350913816, 931962603]\n",
        "if CHECK_REPORT_CRC:\n",
        "    for report, crc in zip(reports, REPORT_PLATES_CRC):\n",
        "        try:\n",
        "            check_report_crc(report['md'], crc)\n",
        "        except Exception as e:\n",
        "            print('{} for {}'.format(e, report['path']))"
      ]
    },
    {
      "cell_type": "markdown",
      "metadata": {},
      "source": [
        "Uncomment the next block to build the module"
      ]
    },
    {
      "cell_type": "code",
      "execution_count": null,
      "metadata": {},
      "outputs": [
        {
          "name": "stdout",
          "output_type": "stream",
          "text": [
            "* Creating virtualenv isolated environment...\n",
            "* Installing packages in isolated environment... (setuptools >= 40.8.0, wheel)\n",
            "* Getting build dependencies for sdist...\n",
            "running egg_info\n",
            "writing hamrep.egg-info\\PKG-INFO\n",
            "writing dependency_links to hamrep.egg-info\\dependency_links.txt\n",
            "writing top-level names to hamrep.egg-info\\top_level.txt\n",
            "reading manifest file 'hamrep.egg-info\\SOURCES.txt'\n",
            "reading manifest template 'MANIFEST.in'\n",
            "writing manifest file 'hamrep.egg-info\\SOURCES.txt'\n",
            "* Building sdist...\n",
            "running sdist\n",
            "running egg_info\n",
            "writing hamrep.egg-info\\PKG-INFO\n",
            "writing dependency_links to hamrep.egg-info\\dependency_links.txt\n",
            "writing top-level names to hamrep.egg-info\\top_level.txt\n",
            "reading manifest file 'hamrep.egg-info\\SOURCES.txt'\n",
            "reading manifest template 'MANIFEST.in'\n",
            "writing manifest file 'hamrep.egg-info\\SOURCES.txt'\n",
            "running check\n",
            "creating hamrep-0.0.2\n",
            "creating hamrep-0.0.2\\hamrep\n",
            "creating hamrep-0.0.2\\hamrep.egg-info\n",
            "creating hamrep-0.0.2\\test\n",
            "copying files to hamrep-0.0.2...\n",
            "copying MANIFEST.in -> hamrep-0.0.2\n",
            "copying README.md -> hamrep-0.0.2\n",
            "copying setup.py -> hamrep-0.0.2\n",
            "copying hamrep\\__init__.py -> hamrep-0.0.2\\hamrep\n",
            "copying hamrep\\constants.py -> hamrep-0.0.2\\hamrep\n",
            "copying hamrep\\dummy.py -> hamrep-0.0.2\\hamrep\n",
            "copying hamrep\\fitdata.py -> hamrep-0.0.2\\hamrep\n",
            "copying hamrep\\image.py -> hamrep-0.0.2\\hamrep\n",
            "copying hamrep\\layouthandle.py -> hamrep-0.0.2\\hamrep\n",
            "copying hamrep\\mdhandling.py -> hamrep-0.0.2\\hamrep\n",
            "copying hamrep\\mkinout.py -> hamrep-0.0.2\\hamrep\n",
            "copying hamrep\\readdata.py -> hamrep-0.0.2\\hamrep\n",
            "copying hamrep\\reportgen.py -> hamrep-0.0.2\\hamrep\n",
            "copying hamrep\\reportmain.py -> hamrep-0.0.2\\hamrep\n",
            "copying hamrep\\reportmd.py -> hamrep-0.0.2\\hamrep\n",
            "copying hamrep\\reportmdassembly.py -> hamrep-0.0.2\\hamrep\n",
            "copying hamrep\\sample.py -> hamrep-0.0.2\\hamrep\n",
            "copying hamrep\\worklist.py -> hamrep-0.0.2\\hamrep\n",
            "copying hamrep.egg-info\\PKG-INFO -> hamrep-0.0.2\\hamrep.egg-info\n",
            "copying hamrep.egg-info\\SOURCES.txt -> hamrep-0.0.2\\hamrep.egg-info\n",
            "copying hamrep.egg-info\\dependency_links.txt -> hamrep-0.0.2\\hamrep.egg-info\n",
            "copying hamrep.egg-info\\top_level.txt -> hamrep-0.0.2\\hamrep.egg-info\n",
            "copying test\\__init__.py -> hamrep-0.0.2\\test\n",
            "copying test\\test_e2e.py -> hamrep-0.0.2\\test\n",
            "copying test\\test_fitdata.py -> hamrep-0.0.2\\test\n",
            "Writing hamrep-0.0.2\\setup.cfg\n",
            "Creating tar archive\n",
            "removing 'hamrep-0.0.2' (and everything under it)\n",
            "* Creating virtualenv isolated environment...\n",
            "* Installing packages in isolated environment... (setuptools >= 40.8.0, wheel)\n",
            "* Getting build dependencies for wheel...\n",
            "running egg_info\n",
            "writing hamrep.egg-info\\PKG-INFO\n",
            "writing dependency_links to hamrep.egg-info\\dependency_links.txt\n",
            "writing top-level names to hamrep.egg-info\\top_level.txt\n",
            "reading manifest file 'hamrep.egg-info\\SOURCES.txt'\n",
            "reading manifest template 'MANIFEST.in'\n",
            "writing manifest file 'hamrep.egg-info\\SOURCES.txt'\n",
            "* Installing packages in isolated environment... (wheel)\n",
            "* Building wheel...\n",
            "running bdist_wheel\n",
            "running build\n",
            "running build_py\n",
            "copying hamrep\\mdhandling.py -> build\\lib\\hamrep\n",
            "running egg_info\n",
            "writing hamrep.egg-info\\PKG-INFO\n",
            "writing dependency_links to hamrep.egg-info\\dependency_links.txt\n",
            "writing top-level names to hamrep.egg-info\\top_level.txt\n",
            "reading manifest file 'hamrep.egg-info\\SOURCES.txt'\n",
            "reading manifest template 'MANIFEST.in'\n",
            "writing manifest file 'hamrep.egg-info\\SOURCES.txt'\n",
            "installing to build\\bdist.win-amd64\\wheel\n",
            "running install\n",
            "running install_lib\n",
            "creating build\\bdist.win-amd64\\wheel\n",
            "creating build\\bdist.win-amd64\\wheel\\hamrep\n",
            "copying build\\lib\\hamrep\\constants.py -> build\\bdist.win-amd64\\wheel\\.\\hamrep\n",
            "copying build\\lib\\hamrep\\dummy.py -> build\\bdist.win-amd64\\wheel\\.\\hamrep\n",
            "copying build\\lib\\hamrep\\fitdata.py -> build\\bdist.win-amd64\\wheel\\.\\hamrep\n",
            "copying build\\lib\\hamrep\\image.py -> build\\bdist.win-amd64\\wheel\\.\\hamrep\n",
            "copying build\\lib\\hamrep\\layouthandle.py -> build\\bdist.win-amd64\\wheel\\.\\hamrep\n",
            "copying build\\lib\\hamrep\\mdhandling.py -> build\\bdist.win-amd64\\wheel\\.\\hamrep\n",
            "copying build\\lib\\hamrep\\mkinout.py -> build\\bdist.win-amd64\\wheel\\.\\hamrep\n",
            "copying build\\lib\\hamrep\\readdata.py -> build\\bdist.win-amd64\\wheel\\.\\hamrep\n",
            "copying build\\lib\\hamrep\\reportgen.py -> build\\bdist.win-amd64\\wheel\\.\\hamrep\n",
            "copying build\\lib\\hamrep\\reportmain.py -> build\\bdist.win-amd64\\wheel\\.\\hamrep\n",
            "copying build\\lib\\hamrep\\reportmd.py -> build\\bdist.win-amd64\\wheel\\.\\hamrep\n",
            "copying build\\lib\\hamrep\\reportmdassembly.py -> build\\bdist.win-amd64\\wheel\\.\\hamrep\n",
            "copying build\\lib\\hamrep\\sample.py -> build\\bdist.win-amd64\\wheel\\.\\hamrep\n",
            "copying build\\lib\\hamrep\\worklist.py -> build\\bdist.win-amd64\\wheel\\.\\hamrep\n",
            "copying build\\lib\\hamrep\\__init__.py -> build\\bdist.win-amd64\\wheel\\.\\hamrep\n",
            "creating build\\bdist.win-amd64\\wheel\\test\n",
            "copying build\\lib\\test\\test_e2e.py -> build\\bdist.win-amd64\\wheel\\.\\test\n",
            "copying build\\lib\\test\\test_fitdata.py -> build\\bdist.win-amd64\\wheel\\.\\test\n",
            "copying build\\lib\\test\\__init__.py -> build\\bdist.win-amd64\\wheel\\.\\test\n",
            "running install_egg_info\n",
            "Copying hamrep.egg-info to build\\bdist.win-amd64\\wheel\\.\\hamrep-0.0.2-py3.10.egg-info\n",
            "running install_scripts\n",
            "creating build\\bdist.win-amd64\\wheel\\hamrep-0.0.2.dist-info\\WHEEL\n",
            "creating 'c:\\work\\report-gen\\dist\\.tmp-4rwtgxkh\\hamrep-0.0.2-py3-none-any.whl' and adding 'build\\bdist.win-amd64\\wheel' to it\n",
            "adding 'hamrep/__init__.py'\n",
            "adding 'hamrep/constants.py'\n",
            "adding 'hamrep/dummy.py'\n",
            "adding 'hamrep/fitdata.py'\n",
            "adding 'hamrep/image.py'\n",
            "adding 'hamrep/layouthandle.py'\n",
            "adding 'hamrep/mdhandling.py'\n",
            "adding 'hamrep/mkinout.py'\n",
            "adding 'hamrep/readdata.py'\n",
            "adding 'hamrep/reportgen.py'\n",
            "adding 'hamrep/reportmain.py'\n",
            "adding 'hamrep/reportmd.py'\n",
            "adding 'hamrep/reportmdassembly.py'\n",
            "adding 'hamrep/sample.py'\n",
            "adding 'hamrep/worklist.py'\n",
            "adding 'test/__init__.py'\n",
            "adding 'test/test_e2e.py'\n",
            "adding 'test/test_fitdata.py'\n",
            "adding 'hamrep-0.0.2.dist-info/METADATA'\n",
            "adding 'hamrep-0.0.2.dist-info/WHEEL'\n",
            "adding 'hamrep-0.0.2.dist-info/top_level.txt'\n",
            "adding 'hamrep-0.0.2.dist-info/RECORD'\n",
            "removing build\\bdist.win-amd64\\wheel\n",
            "Successfully built hamrep-0.0.2.tar.gz and hamrep-0.0.2-py3-none-any.whl\n"
          ]
        },
        {
          "name": "stderr",
          "output_type": "stream",
          "text": [
            "warning: no files found matching 'data'\n",
            "warning: no files found matching 'data'\n",
            "warning: no files found matching 'data'\n",
            "warning: no files found matching 'data'\n"
          ]
        }
      ],
      "source": [
        "! python -m build --sdist --wheel"
      ]
    }
  ],
  "metadata": {
    "colab": {
      "provenance": []
    },
    "kernelspec": {
      "display_name": "Python 3",
      "name": "python3"
    },
    "language_info": {
      "codemirror_mode": {
        "name": "ipython",
        "version": 3
      },
      "file_extension": ".py",
      "mimetype": "text/x-python",
      "name": "python",
      "nbconvert_exporter": "python",
      "pygments_lexer": "ipython3",
      "version": "3.10.10"
    }
  },
  "nbformat": 4,
  "nbformat_minor": 0
}
