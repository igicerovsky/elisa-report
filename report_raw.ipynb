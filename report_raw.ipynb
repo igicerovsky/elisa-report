{
  "cells": [
    {
      "attachments": {},
      "cell_type": "markdown",
      "metadata": {},
      "source": [
        "# Generate report from exprted photometer data  \n",
        "\n",
        "Use raw folder with photometer exported data"
      ]
    },
    {
      "attachments": {},
      "cell_type": "markdown",
      "metadata": {},
      "source": [
        "## Imports"
      ]
    },
    {
      "cell_type": "code",
      "execution_count": null,
      "metadata": {},
      "outputs": [],
      "source": [
        "VERBOSE_NOTEBOOK = False\n",
        "WARNING_DISABLE = True\n",
        "DEBUG = False"
      ]
    },
    {
      "cell_type": "code",
      "execution_count": null,
      "metadata": {
        "id": "DScHnqGC95-6"
      },
      "outputs": [],
      "source": [
        "from os import path\n",
        "import warnings\n",
        "from scipy.optimize import OptimizeWarning\n",
        "\n",
        "if WARNING_DISABLE:\n",
        "    warnings.simplefilter('ignore', RuntimeWarning)\n",
        "    warnings.simplefilter('ignore', OptimizeWarning)\n",
        "    warnings.filterwarnings('ignore', category=UserWarning, module='openpyxl')"
      ]
    },
    {
      "cell_type": "code",
      "execution_count": null,
      "metadata": {},
      "outputs": [],
      "source": [
        "from mkinout import make_input_paths, parse_dir_name\n",
        "\n",
        "# WORKING_DIR = './reports/export/230712_AAV8-ELISA_sey_GN004240-048'\n",
        "WORKING_DIR = './reports/export/230801_AAV9-ELISA_sey_GN004240-053'\n",
        "DATA_DIR = './data'\n",
        "\n",
        "PARSED_DIR = parse_dir_name(WORKING_DIR)\n",
        "# WORKLIST_FILE_PATH = path.join(WORKING_DIR,  PARSED_DIR['date'] + '_worklist-ELISA.xls')\n",
        "# if not path.isfile(WORKLIST_FILE_PATH):\n",
        "#     raise Exception(f'Invalit worklist file {WORKLIST_FILE_PATH}!')\n",
        "\n",
        "# PARAMS_FILE_PATH = path.join(WORKING_DIR, PARSED_DIR['date'] + '_Parameters_' + PARSED_DIR['protocol'] + '.csv')\n",
        "# if not path.isfile(PARAMS_FILE_PATH):\n",
        "#     raise Exception(f'Invalid parameters file {PARAMS_FILE_PATH}!')\n",
        "\n",
        "input_files = make_input_paths(WORKING_DIR)\n",
        "WORKLIST_FILE_PATH = input_files['worklist']\n",
        "PARAMS_FILE_PATH = input_files['params']"
      ]
    },
    {
      "attachments": {},
      "cell_type": "markdown",
      "metadata": {
        "id": "BNLvIjir8ygz"
      },
      "source": [
        "## Layouts"
      ]
    },
    {
      "cell_type": "code",
      "execution_count": null,
      "metadata": {
        "colab": {
          "base_uri": "https://localhost:8080/",
          "height": 300
        },
        "id": "EhcUq4gagUvF",
        "outputId": "419c96ca-d9f1-4c13-f3f8-ad9e23662719"
      },
      "outputs": [],
      "source": [
        "from readdata import read_layouts\n",
        "\n",
        "PLATE_LAYOUT_ID = 'plate_layout_ident.csv'\n",
        "PLATE_LAYOUT_NUM = 'plate_layout_num.csv'\n",
        "PLATE_LAYOUT_DIL_ID = 'plate_layout_dil_id.csv'\n",
        "\n",
        "\n",
        "g_lay = read_layouts(path.join(DATA_DIR, PLATE_LAYOUT_ID),\n",
        "                     path.join(DATA_DIR, PLATE_LAYOUT_NUM),\n",
        "                     path.join(DATA_DIR, PLATE_LAYOUT_DIL_ID))\n",
        "\n",
        "if VERBOSE_NOTEBOOK:\n",
        "    display(g_lay)"
      ]
    },
    {
      "attachments": {},
      "cell_type": "markdown",
      "metadata": {},
      "source": [
        "## Worklist"
      ]
    },
    {
      "cell_type": "code",
      "execution_count": null,
      "metadata": {},
      "outputs": [],
      "source": [
        "from worklist import read_worklist, check_worklist\n",
        "from readdata import read_params\n",
        "\n",
        "g_wl_raw = read_worklist(WORKLIST_FILE_PATH)\n",
        "g_params = read_params(PARAMS_FILE_PATH)"
      ]
    },
    {
      "attachments": {},
      "cell_type": "markdown",
      "metadata": {},
      "source": [
        "## Dilution to Concentration\n",
        "\n",
        "Define dilution dataframe. The dataframe is indexed according plate layout, index of refference dataframe corresponds to refference of the `plate_layout_dil`."
      ]
    },
    {
      "cell_type": "code",
      "execution_count": null,
      "metadata": {},
      "outputs": [],
      "source": [
        "# TODO: read reference value from parameters\n",
        "REF_VAL_MAX = 1.7954e+10\n",
        "DILUTIONS = [1.0, 2.0, 4.0, 8.0, 16.0, 32.0, 64.0]\n",
        "\n",
        "from sample import make_concentration\n",
        "g_reference_conc = make_concentration(REF_VAL_MAX, DILUTIONS)\n",
        "\n",
        "if VERBOSE_NOTEBOOK:\n",
        "    display(g_reference_conc)"
      ]
    },
    {
      "attachments": {},
      "cell_type": "markdown",
      "metadata": {},
      "source": [
        "## Report generation"
      ]
    },
    {
      "cell_type": "code",
      "execution_count": null,
      "metadata": {},
      "outputs": [],
      "source": [
        "from reportmain import report_plate, check_report_crc\n",
        "from mkinout import make_output_paths, basename_from_inputdir, parse_dir_name, find_analysis, parse_photometer_filename\n",
        "from datetime import datetime\n",
        "\n",
        "def make_input_analysis_txt(work_dir, protocol, plate_id, dt):\n",
        "    sdt = dt.strftime('%Y%m%d_%H%M%S')\n",
        "    sd = dt.strftime('%y%m%d')\n",
        "    f = f'{sd}_{protocol}__{plate_id}_{sdt}.txt'\n",
        "    p = path.join(work_dir, f)\n",
        "    if not path.isfile(p):\n",
        "        raise Exception(f'Invalid plate export file {p}!')\n",
        "    return p\n",
        "\n",
        "\n",
        "def gen_report(worklist, params, layout, reference_conc, working_dir):\n",
        "    reports = []\n",
        "    alist = find_analysis(working_dir)\n",
        "    print(alist)\n",
        "    for analysis_file in alist:\n",
        "        dc = parse_photometer_filename(analysis_file)\n",
        "        plate = int(dc['plate'])\n",
        "        print('Processing plate {} of {}'.format(plate, len(alist)))\n",
        "\n",
        "        base_name = basename_from_inputdir(WORKING_DIR)\n",
        "        output_files = make_output_paths(working_dir, base_name, plate)\n",
        "        report_file_path = output_files['report']\n",
        "\n",
        "        report_dir = path.dirname(path.abspath(report_file_path))\n",
        "        info = parse_dir_name(working_dir)\n",
        "        md, dfres = report_plate(plate, worklist, params, layout,\n",
        "                    reference_conc, analysis_file, report_dir,\n",
        "                    info\n",
        "                    )\n",
        "        reports.append({'md': md, 'df': dfres, 'path': report_file_path, 'plate': plate})\n",
        "    return reports\n",
        "\n",
        "reports = gen_report(g_wl_raw, g_params, g_lay, g_reference_conc,\n",
        "    WORKING_DIR)"
      ]
    },
    {
      "cell_type": "code",
      "execution_count": null,
      "metadata": {},
      "outputs": [],
      "source": [
        "import reportmdassembly as ra\n",
        "from reportmdassembly import assembly\n",
        "from reportmd import save_md\n",
        "import subprocess\n",
        "\n",
        "import importlib\n",
        "importlib.reload(ra)\n",
        "\n",
        "md_assembly = ra.assembly(reports, protocol=PARSED_DIR['protocol'])\n",
        "mdfile = '{}_{}.md'.format(PARSED_DIR['date'], PARSED_DIR['protocol'])\n",
        "md_filepath = path.join(WORKING_DIR, mdfile)\n",
        "save_md(md_filepath, md_assembly)\n",
        "docx_path = path.splitext(md_filepath)[0] + '.docx'\n",
        "print('Generating Word {} for {}'.format(docx_path, md_filepath))\n",
        "REFERENCE_DOCX = 'C:/work/report-gen/custom-reference.docx'\n",
        "PANDOC_PATH = 'c:/work/pandoc/pandoc'\n",
        "subprocess.run([PANDOC_PATH, '-o', docx_path,\n",
        "                    '-f', 'markdown', '-t', 'docx',\n",
        "                    '--resource-path', WORKING_DIR,\n",
        "                    '--reference-doc', REFERENCE_DOCX,\n",
        "                    md_filepath])"
      ]
    },
    {
      "cell_type": "code",
      "execution_count": null,
      "metadata": {},
      "outputs": [],
      "source": [
        "PDFLATEX_EXE = 'c:/Users/hwn6193/AppData/Local/Programs/MiKTeX/miktex/bin/x64/pdflatex.exe'\n",
        "REFERENCE_DOCX = 'C:/work/report-gen/custom-reference.docx'\n",
        "GENERATE_PLATE_PDF = True\n",
        "GENERATE_PLATE_DOCX = False\n",
        "\n",
        "for report in reports:\n",
        "    print('Report for plate {} saved as {}'.format(report['plate'], report['path']))\n",
        "    save_md(report['path'], report['md'])\n",
        "    xlsx_file = path.splitext(report['path'])[0] + '_results.xlsx'\n",
        "    report['df'].to_excel(xlsx_file)\n",
        "\n",
        "    if GENERATE_PLATE_DOCX:\n",
        "        report_dir = path.dirname(path.abspath(report['path']))\n",
        "        docx_path = path.splitext(report['path'])[0] + '.docx'\n",
        "        print('Generating Word {} for {}'.format(docx_path, report['path']))\n",
        "        REFERENCE_DOCX = 'C:/work/report-gen/custom-reference.docx'\n",
        "        PANDOC_PATH = 'c:/work/pandoc/pandoc'\n",
        "        subprocess.run([PANDOC_PATH, '-o', docx_path,\n",
        "                            '-f', 'markdown', '-t', 'docx',\n",
        "                            '--resource-path', report_dir,\n",
        "                            '--reference-doc', REFERENCE_DOCX,\n",
        "                            report['path']])\n",
        "\n",
        "    if GENERATE_PLATE_PDF:\n",
        "        pdf_path = path.splitext(report['path'])[0] + '.pdf'\n",
        "        print(f'Generating PDF {pdf_path} for {report[\"path\"]}')\n",
        "        subprocess.run([PANDOC_PATH, '-o', pdf_path,\n",
        "                        '--resource-path', report_dir,\n",
        "                        '--pdf-engine', PDFLATEX_EXE,\n",
        "                        report['path']])\n"
      ]
    },
    {
      "cell_type": "code",
      "execution_count": null,
      "metadata": {},
      "outputs": [],
      "source": [
        "CHECK_REPORT_CRC = True\n",
        "REPORT_PLATES_CRC = [3422234280, 3350913816, 931962603]\n",
        "if CHECK_REPORT_CRC:\n",
        "    for report, crc in zip(reports, REPORT_PLATES_CRC):\n",
        "        try:\n",
        "            check_report_crc(report['md'], crc)\n",
        "        except Exception as e:\n",
        "            print('{} for {}'.format(e, report['path']))"
      ]
    }
  ],
  "metadata": {
    "colab": {
      "provenance": []
    },
    "kernelspec": {
      "display_name": "Python 3",
      "name": "python3"
    },
    "language_info": {
      "codemirror_mode": {
        "name": "ipython",
        "version": 3
      },
      "file_extension": ".py",
      "mimetype": "text/x-python",
      "name": "python",
      "nbconvert_exporter": "python",
      "pygments_lexer": "ipython3",
      "version": "3.9.13"
    }
  },
  "nbformat": 4,
  "nbformat_minor": 0
}
