{
  "cells": [
    {
      "attachments": {},
      "cell_type": "markdown",
      "metadata": {},
      "source": [
        "# Generate report from exprted photometer data  \n",
        "\n",
        "Use raw folder with photometer exported data"
      ]
    },
    {
      "attachments": {},
      "cell_type": "markdown",
      "metadata": {},
      "source": [
        "## Imports"
      ]
    },
    {
      "cell_type": "code",
      "execution_count": null,
      "metadata": {},
      "outputs": [],
      "source": [
        "VERBOSE_NOTEBOOK = False\n",
        "WARNING_DISABLE = True\n",
        "DEBUG = False"
      ]
    },
    {
      "cell_type": "code",
      "execution_count": null,
      "metadata": {
        "id": "DScHnqGC95-6"
      },
      "outputs": [],
      "source": [
        "from os import path\n",
        "import warnings\n",
        "from scipy.optimize import OptimizeWarning\n",
        "\n",
        "if WARNING_DISABLE:\n",
        "    warnings.simplefilter('ignore', RuntimeWarning)\n",
        "    warnings.simplefilter('ignore', OptimizeWarning)\n",
        "    warnings.filterwarnings('ignore', category=UserWarning, module='openpyxl')"
      ]
    },
    {
      "cell_type": "code",
      "execution_count": null,
      "metadata": {},
      "outputs": [],
      "source": [
        "from elisarep.mkinout import make_input_paths, parse_dir_name\n",
        "\n",
        "# ANALYSIS_DIR = './reports/export/230801_AAV9-ELISA_sey_GN004240-053'\n",
        "ANALYSIS_DIR = 'c:/work/hamilton/analysis/230801_AAV9-ELISA_sey_GN004240-053'\n",
        "CONFIG_DIR = './data'\n",
        "\n",
        "PARSED_DIR = parse_dir_name(ANALYSIS_DIR)\n",
        "\n",
        "input_files = make_input_paths(ANALYSIS_DIR)\n",
        "WORKLIST_FILE_PATH = input_files['worklist']\n",
        "PARAMS_FILE_PATH = input_files['params']"
      ]
    },
    {
      "cell_type": "code",
      "execution_count": null,
      "metadata": {},
      "outputs": [],
      "source": [
        "from dataclasses import dataclass\n",
        "import json\n",
        "\n",
        "\n",
        "@dataclass\n",
        "class Config:\n",
        "    def __init__(self,\n",
        "                 pandoc_bin: path,\n",
        "                 pdflatex_bin: path,\n",
        "                 reference_docx: path,\n",
        "                 data_dir: path = \"./data\",\n",
        "                 plate_layout_id: path = \"./data/plate_layout_ident.csv\",\n",
        "                 plate_layout_num: path = \"./data/plate_layout_num.csv\",\n",
        "                 plate_layout_dil_id: path = \"./data/plate_layout_dil_id.csv\",\n",
        "                 numeric_warning_disable: bool = True\n",
        "                 ):\n",
        "        self.pandoc_bin = pandoc_bin\n",
        "        self.pdflatex_bin = pdflatex_bin\n",
        "        self.reference_docx = reference_docx\n",
        "        self.data_dir = data_dir\n",
        "        self.plate_layout_id = plate_layout_id\n",
        "        self.plate_layout_num = plate_layout_num\n",
        "        self.plate_layout_dil_id = plate_layout_dil_id\n",
        "        self.numeric_warning_disable = numeric_warning_disable\n",
        "\n",
        "\n",
        "def read_config(cfg_path):\n",
        "    with open(path.join(CONFIG_DIR, \"config.json\")) as json_file:\n",
        "        jd = json.load(json_file)\n",
        "\n",
        "    return Config(jd['pandoc_bin'], jd['pdflatex_bin'], jd['reference_docx'])\n",
        "\n",
        "\n",
        "cfg = read_config('./data/config.json')"
      ]
    },
    {
      "attachments": {},
      "cell_type": "markdown",
      "metadata": {
        "id": "BNLvIjir8ygz"
      },
      "source": [
        "## Layouts"
      ]
    },
    {
      "cell_type": "code",
      "execution_count": null,
      "metadata": {
        "colab": {
          "base_uri": "https://localhost:8080/",
          "height": 300
        },
        "id": "EhcUq4gagUvF",
        "outputId": "419c96ca-d9f1-4c13-f3f8-ad9e23662719"
      },
      "outputs": [],
      "source": [
        "from elisarep.readdata import read_layouts\n",
        "\n",
        "PLATE_LAYOUT_ID = 'plate_layout_ident.csv'\n",
        "PLATE_LAYOUT_NUM = 'plate_layout_num.csv'\n",
        "PLATE_LAYOUT_DIL_ID = 'plate_layout_dil_id.csv'\n",
        "\n",
        "\n",
        "g_lay = read_layouts(path.join(CONFIG_DIR, PLATE_LAYOUT_ID),\n",
        "                     path.join(CONFIG_DIR, PLATE_LAYOUT_NUM),\n",
        "                     path.join(CONFIG_DIR, PLATE_LAYOUT_DIL_ID))\n",
        "\n",
        "if VERBOSE_NOTEBOOK:\n",
        "    display(g_lay)"
      ]
    },
    {
      "attachments": {},
      "cell_type": "markdown",
      "metadata": {},
      "source": [
        "## Worklist"
      ]
    },
    {
      "cell_type": "code",
      "execution_count": null,
      "metadata": {},
      "outputs": [],
      "source": [
        "from elisarep.worklist import predil_worklist, check_worklist\n",
        "from elisarep.readdata import read_params\n",
        "\n",
        "wl_raw = predil_worklist(WORKLIST_FILE_PATH)\n",
        "params = read_params(PARAMS_FILE_PATH)"
      ]
    },
    {
      "attachments": {},
      "cell_type": "markdown",
      "metadata": {},
      "source": [
        "## Dilution to Concentration\n",
        "\n",
        "Define dilution dataframe. The dataframe is indexed according plate layout, index of refference dataframe corresponds to refference of the `plate_layout_dil`."
      ]
    },
    {
      "cell_type": "code",
      "execution_count": null,
      "metadata": {},
      "outputs": [],
      "source": [
        "# TODO: read reference value from parameters\n",
        "from elisarep.sample import make_concentration\n",
        "REF_VAL_MAX = 1.7954e+10\n",
        "DILUTIONS = [1.0, 2.0, 4.0, 8.0, 16.0, 32.0, 64.0]\n",
        "\n",
        "reference_conc = make_concentration(REF_VAL_MAX, DILUTIONS)\n",
        "\n",
        "if VERBOSE_NOTEBOOK:\n",
        "    display(reference_conc)"
      ]
    },
    {
      "attachments": {},
      "cell_type": "markdown",
      "metadata": {},
      "source": [
        "## Report generation"
      ]
    },
    {
      "cell_type": "code",
      "execution_count": null,
      "metadata": {},
      "outputs": [],
      "source": [
        "from elisarep.config import config as cfg\n",
        "from elisarep.config import init_config\n",
        "\n",
        "init_config(ANALYSIS_DIR, CONFIG_DIR)"
      ]
    },
    {
      "cell_type": "code",
      "execution_count": null,
      "metadata": {},
      "outputs": [],
      "source": [
        "from elisarep.reportgen import gen_report_raw\n",
        "\n",
        "reports = gen_report_raw(wl_raw, params, g_lay,\n",
        "                         reference_conc, ANALYSIS_DIR)"
      ]
    },
    {
      "cell_type": "code",
      "execution_count": null,
      "metadata": {},
      "outputs": [],
      "source": [
        "from elisarep.mdhandling import md2docx, md2pdf, export_main_report\n",
        "from elisarep.reportmd import save_md\n",
        "\n",
        "export_main_report(reports, ANALYSIS_DIR, cfg['pandoc_bin'],\n",
        "                   cfg['reference_docx'])\n",
        "\n",
        "docxr = True\n",
        "pdf = True\n",
        "for report in reports:\n",
        "    print('Report for plate {} saved as {}'.format(\n",
        "        report['plate'], report['path']))\n",
        "    save_md(report['path'], report['md'])\n",
        "\n",
        "    # TODO: save unformatted results\n",
        "    xlsx_file = path.splitext(report['path'])[0] + '_results.xlsx'\n",
        "    report['df'].to_excel(xlsx_file)\n",
        "\n",
        "    if docxr:\n",
        "        md2docx(cfg['pandoc_bin'], cfg['reference_docx'], report['path'])\n",
        "    if pdf:\n",
        "        md2pdf(cfg['pandoc_bin'], cfg['pdflatex_bin'], report['path'])\n",
        "\n",
        "print('Done.')"
      ]
    },
    {
      "cell_type": "code",
      "execution_count": null,
      "metadata": {},
      "outputs": [],
      "source": [
        "from elisarep.reportmain import check_report_crc\n",
        "\n",
        "CHECK_REPORT_CRC = True\n",
        "REPORT_PLATES_CRC = [2535847545, 3489686272, 2582870018]\n",
        "if CHECK_REPORT_CRC:\n",
        "    for report, crc in zip(reports, REPORT_PLATES_CRC):\n",
        "        try:\n",
        "            check_report_crc(report['md'], crc)\n",
        "        except Exception as e:\n",
        "            print('{} for {}'.format(e, report['path']))"
      ]
    },
    {
      "cell_type": "markdown",
      "metadata": {},
      "source": [
        "Uncomment the next block to build the module"
      ]
    },
    {
      "cell_type": "code",
      "execution_count": null,
      "metadata": {},
      "outputs": [],
      "source": [
        "# ! python -m build --sdist --wheel"
      ]
    },
    {
      "cell_type": "code",
      "execution_count": null,
      "metadata": {},
      "outputs": [],
      "source": [
        "import elisarep.layouthandle as hl\n",
        "import data.layouts as ly\n",
        "\n",
        "hl.to_matrix(ly.l_plate_layout_ident, 8)"
      ]
    },
    {
      "cell_type": "code",
      "execution_count": null,
      "metadata": {},
      "outputs": [],
      "source": [
        "l1 = [['a', 1], ['b', 2], ['c', 3]]\n",
        "l2 = [['a', 1], ['b', 2], ['c', 3]]\n",
        "\n",
        "l1 == l2"
      ]
    },
    {
      "cell_type": "markdown",
      "metadata": {},
      "source": [
        "## `pip install`"
      ]
    },
    {
      "cell_type": "code",
      "execution_count": null,
      "metadata": {},
      "outputs": [],
      "source": [
        "# ! python.exe -m pip install --upgrade pip"
      ]
    },
    {
      "cell_type": "code",
      "execution_count": null,
      "metadata": {},
      "outputs": [],
      "source": [
        "# ! python.exe -m pip install --upgrade pandas"
      ]
    },
    {
      "cell_type": "code",
      "execution_count": null,
      "metadata": {},
      "outputs": [],
      "source": [
        "# ! pip install mypy"
      ]
    },
    {
      "cell_type": "code",
      "execution_count": null,
      "metadata": {},
      "outputs": [],
      "source": [
        "# ! python .\\report_gen.py --help"
      ]
    },
    {
      "cell_type": "code",
      "execution_count": null,
      "metadata": {},
      "outputs": [],
      "source": [
        "# ! python.exe -m pip install pip install python-docx"
      ]
    },
    {
      "cell_type": "markdown",
      "metadata": {},
      "source": [
        "# Wowrd"
      ]
    },
    {
      "cell_type": "code",
      "execution_count": null,
      "metadata": {},
      "outputs": [],
      "source": [
        "from docx.enum.style import WD_STYLE_TYPE\n",
        "import docx\n",
        "from docx import Document\n",
        "\n",
        "document = Document()\n",
        "styles = document.styles\n",
        "styles = document.styles\n",
        "paragraph_styles = [\n",
        "    s for s in styles if s.type == WD_STYLE_TYPE.PARAGRAPH\n",
        "]\n",
        "for style in paragraph_styles:\n",
        "    print(style.name)"
      ]
    },
    {
      "cell_type": "code",
      "execution_count": null,
      "metadata": {},
      "outputs": [],
      "source": [
        "import re\n",
        "\n",
        "r = re.compile(r'(\\*\\*).*?(\\*\\*)')\n",
        "\n",
        "str = '**<2.805e+9**'\n",
        "m = r.match(str)\n",
        "print(m)"
      ]
    },
    {
      "cell_type": "code",
      "execution_count": null,
      "metadata": {},
      "outputs": [],
      "source": [
        "re.sub('[\\*\\*]', '', str)"
      ]
    },
    {
      "cell_type": "markdown",
      "metadata": {},
      "source": [
        "# MS Word replace"
      ]
    },
    {
      "cell_type": "code",
      "execution_count": null,
      "metadata": {},
      "outputs": [],
      "source": [
        "text = '''\n",
        "Fabry, AAV9-Y\n",
        "PFB,\tP-Y\n",
        "EFB,\tE-Y\n",
        "Pompe,\tAAV9-E\n",
        "PPO,\tP-E\n",
        "EPO,\tE-E\n",
        "rE-Ert,\treport\n",
        "PP648,\tPRPL1\n",
        "PP073,\tPRPL2\n",
        "PP5786,\tPRPL2\n",
        "PHCP,\tPHCP1\n",
        "'''\n",
        "\n",
        "data = {}\n",
        "lines = text.strip().split('\\n')\n",
        "for line in lines:\n",
        "    key, value = line.split(',')\n",
        "    data[key.strip()] = value.strip()\n",
        "\n",
        "print(data)"
      ]
    },
    {
      "cell_type": "code",
      "execution_count": null,
      "metadata": {},
      "outputs": [],
      "source": [
        "from docx import Document\n",
        "\n",
        "# Path to the Word document\n",
        "doc_path = \"C:/work/elisa-report/media/DMD-212109_HEK293-HostCellProtein_ELISA.docx\"\n",
        "print(doc_path)\n",
        "print(f'Replacing by\\n  {data}')\n",
        "\n",
        "# Read the document\n",
        "doc = Document(doc_path)\n",
        "\n",
        "# Replace strings\n",
        "replaced = data.copy()\n",
        "verbose = False\n",
        "for key, value in replaced.items():\n",
        "    replaced[key] = 0\n",
        "for paragraph in doc.paragraphs:\n",
        "    for key, value in data.items():\n",
        "        if key in paragraph.text:\n",
        "            txt_old = paragraph.text\n",
        "            paragraph.text = paragraph.text.replace(key, value)\n",
        "            replaced[key] += 1\n",
        "            print(f'{txt_old} -> {paragraph.text}') if verbose else None\n",
        "\n",
        "for table in doc.tables:\n",
        "    for row in table.rows:\n",
        "        for cell in row.cells:\n",
        "            for paragraph in cell.paragraphs:\n",
        "                for key, value in data.items():\n",
        "                    if key in paragraph.text:\n",
        "                        txt_old = paragraph.text\n",
        "                        paragraph.text = paragraph.text.replace(key, value)\n",
        "                        replaced[key] += 1\n",
        "                        print(\n",
        "                            f'{txt_old} -> {paragraph.text}') if verbose else None\n",
        "\n",
        "\n",
        "print(f'Replacements:\\n  {replaced}')\n",
        "\n",
        "# Save the modified document\n",
        "new_doc_path = doc_path.replace('.docx', '_new.docx')\n",
        "doc.save(new_doc_path)\n",
        "print(f'New docx file saved to {new_doc_path}')"
      ]
    }
  ],
  "metadata": {
    "colab": {
      "provenance": []
    },
    "kernelspec": {
      "display_name": "Python 3",
      "name": "python3"
    },
    "language_info": {
      "codemirror_mode": {
        "name": "ipython",
        "version": 3
      },
      "file_extension": ".py",
      "mimetype": "text/x-python",
      "name": "python",
      "nbconvert_exporter": "python",
      "pygments_lexer": "ipython3",
      "version": "3.10.10"
    }
  },
  "nbformat": 4,
  "nbformat_minor": 0
}
